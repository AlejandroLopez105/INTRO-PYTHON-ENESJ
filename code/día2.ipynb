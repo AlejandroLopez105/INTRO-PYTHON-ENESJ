{
  "nbformat": 4,
  "nbformat_minor": 0,
  "metadata": {
    "colab": {
      "name": "día2.ipynb",
      "provenance": [],
      "collapsed_sections": [],
      "authorship_tag": "ABX9TyPNh1QFBBCtVr7E1sXeev97",
      "include_colab_link": true
    },
    "kernelspec": {
      "name": "python3",
      "display_name": "Python 3"
    }
  },
  "cells": [
    {
      "cell_type": "markdown",
      "metadata": {
        "id": "view-in-github",
        "colab_type": "text"
      },
      "source": [
        "<a href=\"https://colab.research.google.com/github/ulises1229/INTRO-PYTHON-ENESJ/blob/master/code/d%C3%ADa2.ipynb\" target=\"_parent\"><img src=\"https://colab.research.google.com/assets/colab-badge.svg\" alt=\"Open In Colab\"/></a>"
      ]
    },
    {
      "cell_type": "markdown",
      "metadata": {
        "id": "bZ1Evys3H261",
        "colab_type": "text"
      },
      "source": [
        "### Día 2 - Almacenamiento de datos\n",
        "##### Autor: Ulises Olivares\n",
        "##### uolivares@unam.mx\n",
        "##### 01 septiembre de 2020"
      ]
    },
    {
      "cell_type": "markdown",
      "metadata": {
        "id": "3usgotf3Fq12",
        "colab_type": "text"
      },
      "source": [
        "#### Diccionarios"
      ]
    },
    {
      "cell_type": "code",
      "metadata": {
        "id": "VacWBZJLFxlQ",
        "colab_type": "code",
        "colab": {
          "base_uri": "https://localhost:8080/",
          "height": 193
        },
        "outputId": "0cc6b7f1-2a29-4341-cf46-ac79b5bd05db"
      },
      "source": [
        "# Uso de diccionarios\n",
        "\n",
        "frutas= {'Fresa':'rojo', 'Limón':'verde', 'Kiwi': ['cafe', 'verde']}\n",
        "for fruta, color in frutas.items():\n",
        "  print(fruta + \" es de color: \" + str(color))\n",
        "\n",
        "oficina = {'hojas':'32.5', 'tijeras':'50.45', 'lápiz':'10'}\n",
        "claves = {'1': 'hojas', '2': 'tijeras', '3':'lápiz'}\n",
        "\n",
        "producto = input(\"Selecciona un objeto de  la lista: \\n 1) Hojas \\n 2) Tijeras \\n 3)Lápiz \\n\")\n",
        "cant = int(input(\"¿Cuantos productos vas a comprar?\"))\n",
        "\n",
        "precio = float(oficina[claves[producto]])\n",
        "             \n",
        "print(\"El total a pagar es de: \" + str(precio * cant))"
      ],
      "execution_count": 34,
      "outputs": [
        {
          "output_type": "stream",
          "text": [
            "Fresa es de color: rojo\n",
            "Limón es de color: verde\n",
            "Kiwi es de color: ['cafe', 'verde']\n",
            "Selecciona un objeto de  la lista: \n",
            " 1) Hojas \n",
            " 2) Tijeras \n",
            " 3)Lápiz \n",
            "1\n",
            "¿Cuantos productos vas a comprar?4\n",
            "El total a pagar es de: 130.0\n"
          ],
          "name": "stdout"
        }
      ]
    },
    {
      "cell_type": "code",
      "metadata": {
        "id": "I-3FOAOOGolo",
        "colab_type": "code",
        "colab": {}
      },
      "source": [
        ""
      ],
      "execution_count": null,
      "outputs": []
    },
    {
      "cell_type": "markdown",
      "metadata": {
        "id": "TEmXdjt1Jlkq",
        "colab_type": "text"
      },
      "source": [
        "#### *Numpy*\n",
        "\n",
        "Demostrar el uso de arreglos unidimensionales y bi-dimensionales utilizando numpy.\n"
      ]
    },
    {
      "cell_type": "code",
      "metadata": {
        "id": "iV2tLujWH1N1",
        "colab_type": "code",
        "colab": {
          "base_uri": "https://localhost:8080/",
          "height": 101
        },
        "outputId": "e8e8443f-5a08-496e-ebc4-1e8e08f5db6a"
      },
      "source": [
        "# importar librería de numpy \n",
        "import numpy as np\n",
        "\n",
        "# Creara un arreglo bi-dimensional\n",
        "a = np.array([[1,2,3], \n",
        "              [4,5,6]], \n",
        "             dtype = np.float32)\n",
        "# Imprimir matriz\n",
        "print(a)\n",
        "\n",
        "# IMP\n",
        "print(\"Dimensiones: \" + str(a.ndim))\n",
        "print(\"Forma: \" + str(a.shape))\n",
        "print(\"Tipo de datos: \" + str(a.dtype))"
      ],
      "execution_count": null,
      "outputs": [
        {
          "output_type": "stream",
          "text": [
            "[[1. 2. 3.]\n",
            " [4. 5. 6.]]\n",
            "Dimensiones: 2\n",
            "Forma: (2, 3)\n",
            "Tipo de datos: float32\n"
          ],
          "name": "stdout"
        }
      ]
    },
    {
      "cell_type": "markdown",
      "metadata": {
        "id": "SZzKBd4XNiV2",
        "colab_type": "text"
      },
      "source": [
        "### Funciones"
      ]
    },
    {
      "cell_type": "code",
      "metadata": {
        "id": "xmhp_AzENhoy",
        "colab_type": "code",
        "colab": {
          "base_uri": "https://localhost:8080/",
          "height": 193
        },
        "outputId": "95f1e133-3c04-4083-8c39-e057c074fa5d"
      },
      "source": [
        "\n",
        "def suma(num1, num2):\n",
        "  \"\"\"\n",
        "    Realiza la sumatoria de dos números\n",
        "    Input:\n",
        "    Salidas: \n",
        "  \"\"\"\n",
        "  suma = num1 + num2\n",
        "  return suma\n",
        "\n",
        "\n",
        "if __name__ == \"__main__\":\n",
        "  print(\"Main\")\n",
        "  a = [1,2,3,4,5,6,7,8,9]\n",
        "  b = [1,2,3,4,5,6,7,8,9]\n",
        "\n",
        "  for i in range(0, len(a)):\n",
        "    print(\"Suma del elemento: \" + str(i) + \" es: \" + str(suma(a[i], b[i])))\n",
        "\n",
        "  #print(\"suma Main: \" + str(suma(a, b)))"
      ],
      "execution_count": 42,
      "outputs": [
        {
          "output_type": "stream",
          "text": [
            "Main\n",
            "Suma del elemento: 0 es: 2\n",
            "Suma del elemento: 1 es: 4\n",
            "Suma del elemento: 2 es: 6\n",
            "Suma del elemento: 3 es: 8\n",
            "Suma del elemento: 4 es: 10\n",
            "Suma del elemento: 5 es: 12\n",
            "Suma del elemento: 6 es: 14\n",
            "Suma del elemento: 7 es: 16\n",
            "Suma del elemento: 8 es: 18\n"
          ],
          "name": "stdout"
        }
      ]
    },
    {
      "cell_type": "code",
      "metadata": {
        "id": "kq_pDjfjJWjF",
        "colab_type": "code",
        "colab": {
          "base_uri": "https://localhost:8080/",
          "height": 353
        },
        "outputId": "3ff7e917-5014-4d19-89d0-0f88ca0dd92d"
      },
      "source": [
        "# Creación de arreglos\n",
        "# Arreglo de 1s\n",
        "ones = np.ones((5,5), dtype=np.float32)\n",
        "# Arreglo de 0s\n",
        "zeros = np.zeros((5,5), dtype=np.float32)\n",
        "\n",
        "#Impresión de matrices\n",
        "print(ones)\n",
        "print(zeros)\n",
        "\n",
        "# Acceso a la matriz usando índices\n",
        "for i in range(0, len(ones)):\n",
        "  for j in range(0, len(ones[0])):\n",
        "    print(ones[i][j], end= \" \")\n",
        "  print(\" \")\n",
        "\n",
        "# Acceso usando elementos\n",
        "for i in ones:\n",
        "  for j in i:\n",
        "    print(j , end =\" \")\n",
        "  print(\" \")"
      ],
      "execution_count": null,
      "outputs": [
        {
          "output_type": "stream",
          "text": [
            "[[1. 1. 1. 1. 1.]\n",
            " [1. 1. 1. 1. 1.]\n",
            " [1. 1. 1. 1. 1.]\n",
            " [1. 1. 1. 1. 1.]\n",
            " [1. 1. 1. 1. 1.]]\n",
            "[[0. 0. 0. 0. 0.]\n",
            " [0. 0. 0. 0. 0.]\n",
            " [0. 0. 0. 0. 0.]\n",
            " [0. 0. 0. 0. 0.]\n",
            " [0. 0. 0. 0. 0.]]\n",
            "1.0 1.0 1.0 1.0 1.0  \n",
            "1.0 1.0 1.0 1.0 1.0  \n",
            "1.0 1.0 1.0 1.0 1.0  \n",
            "1.0 1.0 1.0 1.0 1.0  \n",
            "1.0 1.0 1.0 1.0 1.0  \n",
            "1.0 1.0 1.0 1.0 1.0  \n",
            "1.0 1.0 1.0 1.0 1.0  \n",
            "1.0 1.0 1.0 1.0 1.0  \n",
            "1.0 1.0 1.0 1.0 1.0  \n",
            "1.0 1.0 1.0 1.0 1.0  \n"
          ],
          "name": "stdout"
        }
      ]
    },
    {
      "cell_type": "code",
      "metadata": {
        "id": "Lhd4g_CDLatT",
        "colab_type": "code",
        "colab": {
          "base_uri": "https://localhost:8080/",
          "height": 118
        },
        "outputId": "a184dc85-e53a-4dcc-d581-360638f2758b"
      },
      "source": [
        "# Generación de un vector a través del uso de rangos\n",
        "np.arange(1, 100)"
      ],
      "execution_count": null,
      "outputs": [
        {
          "output_type": "execute_result",
          "data": {
            "text/plain": [
              "array([ 1,  2,  3,  4,  5,  6,  7,  8,  9, 10, 11, 12, 13, 14, 15, 16, 17,\n",
              "       18, 19, 20, 21, 22, 23, 24, 25, 26, 27, 28, 29, 30, 31, 32, 33, 34,\n",
              "       35, 36, 37, 38, 39, 40, 41, 42, 43, 44, 45, 46, 47, 48, 49, 50, 51,\n",
              "       52, 53, 54, 55, 56, 57, 58, 59, 60, 61, 62, 63, 64, 65, 66, 67, 68,\n",
              "       69, 70, 71, 72, 73, 74, 75, 76, 77, 78, 79, 80, 81, 82, 83, 84, 85,\n",
              "       86, 87, 88, 89, 90, 91, 92, 93, 94, 95, 96, 97, 98, 99])"
            ]
          },
          "metadata": {
            "tags": []
          },
          "execution_count": 119
        }
      ]
    },
    {
      "cell_type": "code",
      "metadata": {
        "id": "SM-DLDRBPgho",
        "colab_type": "code",
        "colab": {
          "base_uri": "https://localhost:8080/",
          "height": 101
        },
        "outputId": "24683b14-140d-48b3-fe51-c91527672eba"
      },
      "source": [
        "# Concatenando arreglos o matrices\n",
        "A = np.ones((5,3), dtype = np.float32)\n",
        "B = np.zeros((5,4), dtype = np.float32)\n",
        "\n",
        "# concatenar matrices\n",
        "np.concatenate([A,B], axis = 1)"
      ],
      "execution_count": null,
      "outputs": [
        {
          "output_type": "execute_result",
          "data": {
            "text/plain": [
              "array([[1., 1., 1., 0., 0., 0., 0.],\n",
              "       [1., 1., 1., 0., 0., 0., 0.],\n",
              "       [1., 1., 1., 0., 0., 0., 0.],\n",
              "       [1., 1., 1., 0., 0., 0., 0.],\n",
              "       [1., 1., 1., 0., 0., 0., 0.]], dtype=float32)"
            ]
          },
          "metadata": {
            "tags": []
          },
          "execution_count": 120
        }
      ]
    },
    {
      "cell_type": "code",
      "metadata": {
        "id": "S9bqh64vQD5a",
        "colab_type": "code",
        "colab": {
          "base_uri": "https://localhost:8080/",
          "height": 202
        },
        "outputId": "c2e23b81-a0c7-4aeb-9070-bb85912538bf"
      },
      "source": [
        "# Uso de Astype para hacer un cast de tipos de datos\n",
        "A = np.zeros((5,4), dtype = np.float32)\n",
        "print(len(A[0]))\n",
        "\n",
        "for i in range(len(A)):\n",
        "  for j in range(len(A[0])):\n",
        "    A[i][j] = np.pi\n",
        "print(A)\n",
        "\n",
        "print(A.astype(np.int16))"
      ],
      "execution_count": null,
      "outputs": [
        {
          "output_type": "stream",
          "text": [
            "4\n",
            "[[3.1415927 3.1415927 3.1415927 3.1415927]\n",
            " [3.1415927 3.1415927 3.1415927 3.1415927]\n",
            " [3.1415927 3.1415927 3.1415927 3.1415927]\n",
            " [3.1415927 3.1415927 3.1415927 3.1415927]\n",
            " [3.1415927 3.1415927 3.1415927 3.1415927]]\n",
            "[[3 3 3 3]\n",
            " [3 3 3 3]\n",
            " [3 3 3 3]\n",
            " [3 3 3 3]\n",
            " [3 3 3 3]]\n"
          ],
          "name": "stdout"
        }
      ]
    },
    {
      "cell_type": "code",
      "metadata": {
        "id": "-YYZOHcCRkjk",
        "colab_type": "code",
        "colab": {
          "base_uri": "https://localhost:8080/",
          "height": 151
        },
        "outputId": "7c3b74ee-e463-4e09-ed02-18301f7ea0ef"
      },
      "source": [
        "# Uso de np.zeros_like y np.ones_like\n",
        "A = np.ones((4,4))\n",
        "print(A)\n",
        "# zeros_like genera un arreglo de las \n",
        "# mismas dimensiones que el original \n",
        "B = np.zeros_like(A)\n",
        "print(B)"
      ],
      "execution_count": null,
      "outputs": [
        {
          "output_type": "stream",
          "text": [
            "[[1. 1. 1. 1.]\n",
            " [1. 1. 1. 1.]\n",
            " [1. 1. 1. 1.]\n",
            " [1. 1. 1. 1.]]\n",
            "[[0. 0. 0. 0.]\n",
            " [0. 0. 0. 0.]\n",
            " [0. 0. 0. 0.]\n",
            " [0. 0. 0. 0.]]\n"
          ],
          "name": "stdout"
        }
      ]
    },
    {
      "cell_type": "code",
      "metadata": {
        "id": "wGKMiDBIRfjT",
        "colab_type": "code",
        "colab": {
          "base_uri": "https://localhost:8080/",
          "height": 218
        },
        "outputId": "53270dd3-2619-45b3-b8fe-d798a89b607a"
      },
      "source": [
        "# Generación de arreglos aleatorios\n",
        "A = np.random.random((5, 5))\n",
        "print(A)\n",
        "# Generación de números enteros del 0 al n-1 \n",
        "n = 10\n",
        "B= np.random.randint(10, size = (7,7))\n",
        "print(B)"
      ],
      "execution_count": null,
      "outputs": [
        {
          "output_type": "stream",
          "text": [
            "[[0.77660053 0.26296099 0.88039588 0.04823786 0.10309384]\n",
            " [0.48729586 0.3771756  0.48484433 0.34679897 0.74569246]\n",
            " [0.1103608  0.55375063 0.80777421 0.16883789 0.18751702]\n",
            " [0.41290608 0.6659239  0.41775295 0.94601225 0.19686526]\n",
            " [0.58423953 0.88600177 0.25069284 0.24865989 0.07879548]]\n",
            "[[7 1 7 4 4 0 1]\n",
            " [4 6 8 7 4 1 0]\n",
            " [5 0 4 3 4 1 1]\n",
            " [6 2 2 0 7 6 7]\n",
            " [5 5 8 4 0 3 3]\n",
            " [7 0 3 2 7 4 2]\n",
            " [1 6 9 0 8 1 7]]\n"
          ],
          "name": "stdout"
        }
      ]
    },
    {
      "cell_type": "code",
      "metadata": {
        "id": "TEbefbC4Q-ER",
        "colab_type": "code",
        "colab": {
          "base_uri": "https://localhost:8080/",
          "height": 134
        },
        "outputId": "a5efccef-0559-426a-e2aa-e257eb1d6c4b"
      },
      "source": [
        "# Transformaciones de arreglos\n",
        "A = np.array([1,2,3,4,5,6])\n",
        "print(A)\n",
        "\n",
        "# Transformar a 3 filas, 2 columnas\n",
        "A = A.reshape(3, 2)\n",
        "print(A)\n",
        "\n",
        "# Se utiliza -1 para determinar cols\n",
        "A = A.reshape(2, -1)\n",
        "print(A)\n",
        "\n",
        "# Transormar a un arreglo lineal\n",
        "A = A.ravel()\n",
        "print(A)"
      ],
      "execution_count": null,
      "outputs": [
        {
          "output_type": "stream",
          "text": [
            "[1 2 3 4 5 6]\n",
            "[[1 2]\n",
            " [3 4]\n",
            " [5 6]]\n",
            "[[1 2 3]\n",
            " [4 5 6]]\n",
            "[1 2 3 4 5 6]\n"
          ],
          "name": "stdout"
        }
      ]
    },
    {
      "cell_type": "code",
      "metadata": {
        "id": "kdP0tMurZrka",
        "colab_type": "code",
        "colab": {
          "base_uri": "https://localhost:8080/",
          "height": 319
        },
        "outputId": "bdebe0c3-54e7-476e-eb42-efc0c6c91917"
      },
      "source": [
        "# Transpuesta de una matriz\n",
        "A = np.arange(25).reshape(5,5)\n",
        "print(\"Matriz Original: \\n\" + str(A))\n",
        "# Imprimir matriz transpuesta\n",
        "print(\"Matriz Transpuesta: \\n\" + str(A.T))\n",
        "# Imprimir matriz \n",
        "print(\"Matriz Transpuesta: \\n\" + str(A.transpose((1,0))))\n",
        "\n"
      ],
      "execution_count": null,
      "outputs": [
        {
          "output_type": "stream",
          "text": [
            "Matriz Original: \n",
            "[[ 0  1  2  3  4]\n",
            " [ 5  6  7  8  9]\n",
            " [10 11 12 13 14]\n",
            " [15 16 17 18 19]\n",
            " [20 21 22 23 24]]\n",
            "Matriz Transpuesta: \n",
            "[[ 0  5 10 15 20]\n",
            " [ 1  6 11 16 21]\n",
            " [ 2  7 12 17 22]\n",
            " [ 3  8 13 18 23]\n",
            " [ 4  9 14 19 24]]\n",
            "Matriz Transpuesta: \n",
            "[[ 0  5 10 15 20]\n",
            " [ 1  6 11 16 21]\n",
            " [ 2  7 12 17 22]\n",
            " [ 3  8 13 18 23]\n",
            " [ 4  9 14 19 24]]\n"
          ],
          "name": "stdout"
        }
      ]
    },
    {
      "cell_type": "code",
      "metadata": {
        "id": "u44c41iHY8qZ",
        "colab_type": "code",
        "colab": {
          "base_uri": "https://localhost:8080/",
          "height": 890
        },
        "outputId": "761e4e73-8a92-4fa8-b881-9823a9b5e814"
      },
      "source": [
        "# Operadores Matemáticos\n",
        "A = np.arange(100).reshape(10,10)\n",
        "print(\"Primer Matriz: \\n\" + str(A))\n",
        "\n",
        "B = np.arange(100, 200).reshape(10, 10)\n",
        "print(\"Segunda Matriz: \\n\" + str(B))\n",
        "\n",
        "# Calcular la suma de ambas matrices\n",
        "print(\"Suma: \"  + str(A + B))\n",
        "\n",
        "# Calcular la resta de ambas matrices\n",
        "print(\"Suma: \"  + str(B - A))\n",
        "\n",
        "# Calcular la multiplicación de ambas matrices\n",
        "print(\"Suma: \"  + str(A * B))"
      ],
      "execution_count": null,
      "outputs": [
        {
          "output_type": "stream",
          "text": [
            "Primer Matriz: \n",
            "[[ 0  1  2  3  4  5  6  7  8  9]\n",
            " [10 11 12 13 14 15 16 17 18 19]\n",
            " [20 21 22 23 24 25 26 27 28 29]\n",
            " [30 31 32 33 34 35 36 37 38 39]\n",
            " [40 41 42 43 44 45 46 47 48 49]\n",
            " [50 51 52 53 54 55 56 57 58 59]\n",
            " [60 61 62 63 64 65 66 67 68 69]\n",
            " [70 71 72 73 74 75 76 77 78 79]\n",
            " [80 81 82 83 84 85 86 87 88 89]\n",
            " [90 91 92 93 94 95 96 97 98 99]]\n",
            "Segunda Matriz: \n",
            "[[100 101 102 103 104 105 106 107 108 109]\n",
            " [110 111 112 113 114 115 116 117 118 119]\n",
            " [120 121 122 123 124 125 126 127 128 129]\n",
            " [130 131 132 133 134 135 136 137 138 139]\n",
            " [140 141 142 143 144 145 146 147 148 149]\n",
            " [150 151 152 153 154 155 156 157 158 159]\n",
            " [160 161 162 163 164 165 166 167 168 169]\n",
            " [170 171 172 173 174 175 176 177 178 179]\n",
            " [180 181 182 183 184 185 186 187 188 189]\n",
            " [190 191 192 193 194 195 196 197 198 199]]\n",
            "Suma: [[100 102 104 106 108 110 112 114 116 118]\n",
            " [120 122 124 126 128 130 132 134 136 138]\n",
            " [140 142 144 146 148 150 152 154 156 158]\n",
            " [160 162 164 166 168 170 172 174 176 178]\n",
            " [180 182 184 186 188 190 192 194 196 198]\n",
            " [200 202 204 206 208 210 212 214 216 218]\n",
            " [220 222 224 226 228 230 232 234 236 238]\n",
            " [240 242 244 246 248 250 252 254 256 258]\n",
            " [260 262 264 266 268 270 272 274 276 278]\n",
            " [280 282 284 286 288 290 292 294 296 298]]\n",
            "Suma: [[100 100 100 100 100 100 100 100 100 100]\n",
            " [100 100 100 100 100 100 100 100 100 100]\n",
            " [100 100 100 100 100 100 100 100 100 100]\n",
            " [100 100 100 100 100 100 100 100 100 100]\n",
            " [100 100 100 100 100 100 100 100 100 100]\n",
            " [100 100 100 100 100 100 100 100 100 100]\n",
            " [100 100 100 100 100 100 100 100 100 100]\n",
            " [100 100 100 100 100 100 100 100 100 100]\n",
            " [100 100 100 100 100 100 100 100 100 100]\n",
            " [100 100 100 100 100 100 100 100 100 100]]\n",
            "Suma: [[    0   101   204   309   416   525   636   749   864   981]\n",
            " [ 1100  1221  1344  1469  1596  1725  1856  1989  2124  2261]\n",
            " [ 2400  2541  2684  2829  2976  3125  3276  3429  3584  3741]\n",
            " [ 3900  4061  4224  4389  4556  4725  4896  5069  5244  5421]\n",
            " [ 5600  5781  5964  6149  6336  6525  6716  6909  7104  7301]\n",
            " [ 7500  7701  7904  8109  8316  8525  8736  8949  9164  9381]\n",
            " [ 9600  9821 10044 10269 10496 10725 10956 11189 11424 11661]\n",
            " [11900 12141 12384 12629 12876 13125 13376 13629 13884 14141]\n",
            " [14400 14661 14924 15189 15456 15725 15996 16269 16544 16821]\n",
            " [17100 17381 17664 17949 18236 18525 18816 19109 19404 19701]]\n"
          ],
          "name": "stdout"
        }
      ]
    },
    {
      "cell_type": "code",
      "metadata": {
        "id": "6ypxSJKoY3p9",
        "colab_type": "code",
        "colab": {
          "base_uri": "https://localhost:8080/",
          "height": 302
        },
        "outputId": "7e6d25a2-43c5-4a55-a1f6-a58638af799a"
      },
      "source": [
        "# Operadores lógicos\n",
        "\n",
        "A = np.random.random((5,5))\n",
        "print(\"Matriz Original: \\n\" + str(A))\n",
        "\n",
        "# Operador lógico\n",
        "print(\"Operador lógico a >5 \\n\" + str(a>0.5))"
      ],
      "execution_count": null,
      "outputs": [
        {
          "output_type": "stream",
          "text": [
            "Matriz Original: \n",
            "[[0.0124458  0.75318949 0.51012785 0.14677449 0.38131653]\n",
            " [0.63214844 0.49240062 0.72302018 0.5913991  0.34027848]\n",
            " [0.52156944 0.39808869 0.46779844 0.03746587 0.8252981 ]\n",
            " [0.8354298  0.7554512  0.53322169 0.09566736 0.7134824 ]\n",
            " [0.6791975  0.23094997 0.0116702  0.10245596 0.39682071]]\n",
            "Operador lógico a >5 \n",
            "[[False  True False  True  True  True  True  True False  True]\n",
            " [ True False  True False False  True  True  True  True False]\n",
            " [ True  True  True False  True  True  True False False  True]\n",
            " [ True False  True  True False False  True False False False]\n",
            " [False  True False  True False  True  True False  True  True]\n",
            " [ True False  True False False False  True False False  True]\n",
            " [ True False  True  True False False False False False False]\n",
            " [False False  True  True False  True False  True  True False]\n",
            " [ True False  True False False  True False  True False False]\n",
            " [False False False False  True  True  True False  True False]]\n"
          ],
          "name": "stdout"
        }
      ]
    },
    {
      "cell_type": "code",
      "metadata": {
        "id": "_jgah2aMe1A1",
        "colab_type": "code",
        "colab": {
          "base_uri": "https://localhost:8080/",
          "height": 319
        },
        "outputId": "dbf14432-e6a2-4fb5-af43-6239d0503e76"
      },
      "source": [
        "# Operaciones in-situ \n",
        "A = np.random.randint(10, size= (5,5))\n",
        "print(\"Matriz A Original: \\n\" + str(A))\n",
        "\n",
        "B = A = np.random.randint(10, size= (5,5))\n",
        "print(\"Matriz B Original: \\n\" + str(B))\n",
        "\n",
        "# Operación in-situ\n",
        "A += B\n",
        "print(\"Matriz A Modificada: \\n\" + str(A))"
      ],
      "execution_count": null,
      "outputs": [
        {
          "output_type": "stream",
          "text": [
            "Matriz A Original: \n",
            "[[0 0 7 9 2]\n",
            " [3 6 9 3 0]\n",
            " [1 1 2 5 1]\n",
            " [3 5 6 9 4]\n",
            " [1 1 7 7 5]]\n",
            "Matriz B Original: \n",
            "[[2 8 3 7 1]\n",
            " [3 1 1 7 0]\n",
            " [7 5 0 5 1]\n",
            " [2 9 5 9 5]\n",
            " [3 4 6 8 0]]\n",
            "Matriz A Modificada: \n",
            "[[ 4 16  6 14  2]\n",
            " [ 6  2  2 14  0]\n",
            " [14 10  0 10  2]\n",
            " [ 4 18 10 18 10]\n",
            " [ 6  8 12 16  0]]\n"
          ],
          "name": "stdout"
        }
      ]
    },
    {
      "cell_type": "code",
      "metadata": {
        "id": "qnL5B5LMfzz9",
        "colab_type": "code",
        "colab": {
          "base_uri": "https://localhost:8080/",
          "height": 218
        },
        "outputId": "256e7923-eba7-491e-fcf7-fc7ac780facf"
      },
      "source": [
        "# Funciones universales\n",
        "A = np.random.randint(10, size= (5,5))\n",
        "print(\"Matriz A Original: \\n\" + str(A))\n",
        "\n",
        "# Calcular Raiz cuadrada\n",
        "print(\"Raiz Cuadrada: \\n\" + str(np.sqrt(A)))\n"
      ],
      "execution_count": null,
      "outputs": [
        {
          "output_type": "stream",
          "text": [
            "Matriz A Original: \n",
            "[[0 7 0 0 0]\n",
            " [8 7 2 1 4]\n",
            " [3 7 6 9 9]\n",
            " [3 9 2 3 4]\n",
            " [3 7 2 3 5]]\n",
            "Raiz Cuadrada: \n",
            "[[0.         2.64575131 0.         0.         0.        ]\n",
            " [2.82842712 2.64575131 1.41421356 1.         2.        ]\n",
            " [1.73205081 2.64575131 2.44948974 3.         3.        ]\n",
            " [1.73205081 3.         1.41421356 1.73205081 2.        ]\n",
            " [1.73205081 2.64575131 1.41421356 1.73205081 2.23606798]]\n"
          ],
          "name": "stdout"
        }
      ]
    },
    {
      "cell_type": "markdown",
      "metadata": {
        "id": "0qFDMEpz4oKY",
        "colab_type": "text"
      },
      "source": [
        "#### Inversa de una matriz\n"
      ]
    },
    {
      "cell_type": "code",
      "metadata": {
        "id": "gGbw1o3x4ruc",
        "colab_type": "code",
        "colab": {
          "base_uri": "https://localhost:8080/",
          "height": 218
        },
        "outputId": "78845327-9af6-4a48-ea56-d922cf5bc14b"
      },
      "source": [
        "# Inversa de una matriz\n",
        "import numpy as np\n",
        "\n",
        "# Inicializar una matriz \n",
        "A = np.random.randint(10, size= (5,5))\n",
        "print(\"Matriz A Original: \\n\" + str(A))\n",
        "\n",
        "# Calcular matriz inversa\n",
        "B = np.linalg.inv(A)\n",
        "print(\"Matriz Inversa A^-1: \\n\" + str(B))"
      ],
      "execution_count": 2,
      "outputs": [
        {
          "output_type": "stream",
          "text": [
            "Matriz A Original: \n",
            "[[8 0 1 9 5]\n",
            " [9 2 4 5 2]\n",
            " [8 5 1 1 3]\n",
            " [5 7 9 2 9]\n",
            " [1 7 3 7 1]]\n",
            "Matriz Inversa A^-1: \n",
            "[[-0.0137931   0.08390805  0.06781609 -0.02873563 -0.04367816]\n",
            " [-0.04396552 -0.06587644  0.11199713 -0.00826149  0.08994253]\n",
            " [-0.09094828  0.17826868 -0.14658764  0.06052443 -0.00675287]\n",
            " [ 0.06810345  0.00237069 -0.06400862 -0.02478448  0.06982759]\n",
            " [ 0.11767241 -0.17417385  0.0360273   0.0784842  -0.05445402]]\n"
          ],
          "name": "stdout"
        }
      ]
    },
    {
      "cell_type": "code",
      "metadata": {
        "id": "1nu99iRs8BZ8",
        "colab_type": "code",
        "colab": {}
      },
      "source": [
        ""
      ],
      "execution_count": null,
      "outputs": []
    }
  ]
}