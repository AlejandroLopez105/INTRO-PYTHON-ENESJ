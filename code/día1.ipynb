{
  "nbformat": 4,
  "nbformat_minor": 0,
  "metadata": {
    "colab": {
      "name": "Copy of día1.ipynb",
      "provenance": [],
      "collapsed_sections": [],
      "authorship_tag": "ABX9TyMNhx95w13RsV/8rxxqEVsq",
      "include_colab_link": true
    },
    "kernelspec": {
      "name": "python3",
      "display_name": "Python 3"
    }
  },
  "cells": [
    {
      "cell_type": "markdown",
      "metadata": {
        "id": "view-in-github",
        "colab_type": "text"
      },
      "source": [
        "<a href=\"https://colab.research.google.com/github/ulises1229/INTRO-PYTHON-ENESJ/blob/master/code/d%C3%ADa1.ipynb\" target=\"_parent\"><img src=\"https://colab.research.google.com/assets/colab-badge.svg\" alt=\"Open In Colab\"/></a>"
      ]
    },
    {
      "cell_type": "markdown",
      "metadata": {
        "id": "b-eudR2GKC0m",
        "colab_type": "text"
      },
      "source": [
        "## Día 1 - Curso-Taller: Introducción a Python\n",
        "##### Autor: Ulises Olivares\n",
        "##### uolivares@unam.mx\n",
        "##### 31 de agosto de 2020\n",
        "\n"
      ]
    },
    {
      "cell_type": "code",
      "metadata": {
        "id": "cMQgltlANDpS",
        "colab_type": "code",
        "colab": {
          "base_uri": "https://localhost:8080/",
          "height": 35
        },
        "outputId": "9caeebef-afe0-489d-fabf-a616b0df68a4"
      },
      "source": [
        "# Mezclando strings con números\n",
        "a = 5\n",
        "b = 5\n",
        "\n",
        "print(\"El valor de a es: \" + str(a))"
      ],
      "execution_count": null,
      "outputs": [
        {
          "output_type": "stream",
          "text": [
            "El valor de a es: 5\n"
          ],
          "name": "stdout"
        }
      ]
    },
    {
      "cell_type": "code",
      "metadata": {
        "id": "ssZuHWQ2FpeK",
        "colab_type": "code",
        "colab": {
          "base_uri": "https://localhost:8080/",
          "height": 535
        },
        "outputId": "28de7a1b-abc3-4722-8e11-5c8f8bb6d050"
      },
      "source": [
        "#Ingresando flujos desde teclado\n",
        "# Ejercicio 1\n",
        "num1 = float(input(\"Ingresa un primer número:\"))\n",
        "num2 = float(input(\"Ingresa un segundo número:\"))\n",
        "#opc = int(input(\"Selecciona la operación deseada \n",
        "#        \\n 1) Suma \\n 2) Resta, \\n 3) Multiplicación\"))\n",
        "suma = num1 - num2\n",
        "print(\"La resta es: \" + str(suma))\n",
        "type(suma)"
      ],
      "execution_count": null,
      "outputs": [
        {
          "output_type": "error",
          "ename": "KeyboardInterrupt",
          "evalue": "ignored",
          "traceback": [
            "\u001b[0;31m---------------------------------------------------------------------------\u001b[0m",
            "\u001b[0;31mKeyboardInterrupt\u001b[0m                         Traceback (most recent call last)",
            "\u001b[0;32m/usr/local/lib/python3.6/dist-packages/ipykernel/kernelbase.py\u001b[0m in \u001b[0;36m_input_request\u001b[0;34m(self, prompt, ident, parent, password)\u001b[0m\n\u001b[1;32m    728\u001b[0m             \u001b[0;32mtry\u001b[0m\u001b[0;34m:\u001b[0m\u001b[0;34m\u001b[0m\u001b[0;34m\u001b[0m\u001b[0m\n\u001b[0;32m--> 729\u001b[0;31m                 \u001b[0mident\u001b[0m\u001b[0;34m,\u001b[0m \u001b[0mreply\u001b[0m \u001b[0;34m=\u001b[0m \u001b[0mself\u001b[0m\u001b[0;34m.\u001b[0m\u001b[0msession\u001b[0m\u001b[0;34m.\u001b[0m\u001b[0mrecv\u001b[0m\u001b[0;34m(\u001b[0m\u001b[0mself\u001b[0m\u001b[0;34m.\u001b[0m\u001b[0mstdin_socket\u001b[0m\u001b[0;34m,\u001b[0m \u001b[0;36m0\u001b[0m\u001b[0;34m)\u001b[0m\u001b[0;34m\u001b[0m\u001b[0;34m\u001b[0m\u001b[0m\n\u001b[0m\u001b[1;32m    730\u001b[0m             \u001b[0;32mexcept\u001b[0m \u001b[0mException\u001b[0m\u001b[0;34m:\u001b[0m\u001b[0;34m\u001b[0m\u001b[0;34m\u001b[0m\u001b[0m\n",
            "\u001b[0;32m/usr/local/lib/python3.6/dist-packages/jupyter_client/session.py\u001b[0m in \u001b[0;36mrecv\u001b[0;34m(self, socket, mode, content, copy)\u001b[0m\n\u001b[1;32m    802\u001b[0m         \u001b[0;32mtry\u001b[0m\u001b[0;34m:\u001b[0m\u001b[0;34m\u001b[0m\u001b[0;34m\u001b[0m\u001b[0m\n\u001b[0;32m--> 803\u001b[0;31m             \u001b[0mmsg_list\u001b[0m \u001b[0;34m=\u001b[0m \u001b[0msocket\u001b[0m\u001b[0;34m.\u001b[0m\u001b[0mrecv_multipart\u001b[0m\u001b[0;34m(\u001b[0m\u001b[0mmode\u001b[0m\u001b[0;34m,\u001b[0m \u001b[0mcopy\u001b[0m\u001b[0;34m=\u001b[0m\u001b[0mcopy\u001b[0m\u001b[0;34m)\u001b[0m\u001b[0;34m\u001b[0m\u001b[0;34m\u001b[0m\u001b[0m\n\u001b[0m\u001b[1;32m    804\u001b[0m         \u001b[0;32mexcept\u001b[0m \u001b[0mzmq\u001b[0m\u001b[0;34m.\u001b[0m\u001b[0mZMQError\u001b[0m \u001b[0;32mas\u001b[0m \u001b[0me\u001b[0m\u001b[0;34m:\u001b[0m\u001b[0;34m\u001b[0m\u001b[0;34m\u001b[0m\u001b[0m\n",
            "\u001b[0;32m/usr/local/lib/python3.6/dist-packages/zmq/sugar/socket.py\u001b[0m in \u001b[0;36mrecv_multipart\u001b[0;34m(self, flags, copy, track)\u001b[0m\n\u001b[1;32m    490\u001b[0m         \"\"\"\n\u001b[0;32m--> 491\u001b[0;31m         \u001b[0mparts\u001b[0m \u001b[0;34m=\u001b[0m \u001b[0;34m[\u001b[0m\u001b[0mself\u001b[0m\u001b[0;34m.\u001b[0m\u001b[0mrecv\u001b[0m\u001b[0;34m(\u001b[0m\u001b[0mflags\u001b[0m\u001b[0;34m,\u001b[0m \u001b[0mcopy\u001b[0m\u001b[0;34m=\u001b[0m\u001b[0mcopy\u001b[0m\u001b[0;34m,\u001b[0m \u001b[0mtrack\u001b[0m\u001b[0;34m=\u001b[0m\u001b[0mtrack\u001b[0m\u001b[0;34m)\u001b[0m\u001b[0;34m]\u001b[0m\u001b[0;34m\u001b[0m\u001b[0;34m\u001b[0m\u001b[0m\n\u001b[0m\u001b[1;32m    492\u001b[0m         \u001b[0;31m# have first part already, only loop while more to receive\u001b[0m\u001b[0;34m\u001b[0m\u001b[0;34m\u001b[0m\u001b[0;34m\u001b[0m\u001b[0m\n",
            "\u001b[0;32mzmq/backend/cython/socket.pyx\u001b[0m in \u001b[0;36mzmq.backend.cython.socket.Socket.recv\u001b[0;34m()\u001b[0m\n",
            "\u001b[0;32mzmq/backend/cython/socket.pyx\u001b[0m in \u001b[0;36mzmq.backend.cython.socket.Socket.recv\u001b[0;34m()\u001b[0m\n",
            "\u001b[0;32mzmq/backend/cython/socket.pyx\u001b[0m in \u001b[0;36mzmq.backend.cython.socket._recv_copy\u001b[0;34m()\u001b[0m\n",
            "\u001b[0;32m/usr/local/lib/python3.6/dist-packages/zmq/backend/cython/checkrc.pxd\u001b[0m in \u001b[0;36mzmq.backend.cython.checkrc._check_rc\u001b[0;34m()\u001b[0m\n",
            "\u001b[0;31mKeyboardInterrupt\u001b[0m: ",
            "\nDuring handling of the above exception, another exception occurred:\n",
            "\u001b[0;31mKeyboardInterrupt\u001b[0m                         Traceback (most recent call last)",
            "\u001b[0;32m<ipython-input-4-ebc92e58195f>\u001b[0m in \u001b[0;36m<module>\u001b[0;34m()\u001b[0m\n\u001b[1;32m      1\u001b[0m \u001b[0;31m#Ingresando flujos desde teclado\u001b[0m\u001b[0;34m\u001b[0m\u001b[0;34m\u001b[0m\u001b[0;34m\u001b[0m\u001b[0m\n\u001b[1;32m      2\u001b[0m \u001b[0;31m# Ejercicio 1\u001b[0m\u001b[0;34m\u001b[0m\u001b[0;34m\u001b[0m\u001b[0;34m\u001b[0m\u001b[0m\n\u001b[0;32m----> 3\u001b[0;31m \u001b[0mnum1\u001b[0m \u001b[0;34m=\u001b[0m \u001b[0mfloat\u001b[0m\u001b[0;34m(\u001b[0m\u001b[0minput\u001b[0m\u001b[0;34m(\u001b[0m\u001b[0;34m\"Ingresa un primer número:\"\u001b[0m\u001b[0;34m)\u001b[0m\u001b[0;34m)\u001b[0m\u001b[0;34m\u001b[0m\u001b[0;34m\u001b[0m\u001b[0m\n\u001b[0m\u001b[1;32m      4\u001b[0m \u001b[0mnum2\u001b[0m \u001b[0;34m=\u001b[0m \u001b[0mfloat\u001b[0m\u001b[0;34m(\u001b[0m\u001b[0minput\u001b[0m\u001b[0;34m(\u001b[0m\u001b[0;34m\"Ingresa un segundo número:\"\u001b[0m\u001b[0;34m)\u001b[0m\u001b[0;34m)\u001b[0m\u001b[0;34m\u001b[0m\u001b[0;34m\u001b[0m\u001b[0m\n\u001b[1;32m      5\u001b[0m \u001b[0;31m#opc = int(input(\"Selecciona la operación deseada\u001b[0m\u001b[0;34m\u001b[0m\u001b[0;34m\u001b[0m\u001b[0;34m\u001b[0m\u001b[0m\n",
            "\u001b[0;32m/usr/local/lib/python3.6/dist-packages/ipykernel/kernelbase.py\u001b[0m in \u001b[0;36mraw_input\u001b[0;34m(self, prompt)\u001b[0m\n\u001b[1;32m    702\u001b[0m             \u001b[0mself\u001b[0m\u001b[0;34m.\u001b[0m\u001b[0m_parent_ident\u001b[0m\u001b[0;34m,\u001b[0m\u001b[0;34m\u001b[0m\u001b[0;34m\u001b[0m\u001b[0m\n\u001b[1;32m    703\u001b[0m             \u001b[0mself\u001b[0m\u001b[0;34m.\u001b[0m\u001b[0m_parent_header\u001b[0m\u001b[0;34m,\u001b[0m\u001b[0;34m\u001b[0m\u001b[0;34m\u001b[0m\u001b[0m\n\u001b[0;32m--> 704\u001b[0;31m             \u001b[0mpassword\u001b[0m\u001b[0;34m=\u001b[0m\u001b[0;32mFalse\u001b[0m\u001b[0;34m,\u001b[0m\u001b[0;34m\u001b[0m\u001b[0;34m\u001b[0m\u001b[0m\n\u001b[0m\u001b[1;32m    705\u001b[0m         )\n\u001b[1;32m    706\u001b[0m \u001b[0;34m\u001b[0m\u001b[0m\n",
            "\u001b[0;32m/usr/local/lib/python3.6/dist-packages/ipykernel/kernelbase.py\u001b[0m in \u001b[0;36m_input_request\u001b[0;34m(self, prompt, ident, parent, password)\u001b[0m\n\u001b[1;32m    732\u001b[0m             \u001b[0;32mexcept\u001b[0m \u001b[0mKeyboardInterrupt\u001b[0m\u001b[0;34m:\u001b[0m\u001b[0;34m\u001b[0m\u001b[0;34m\u001b[0m\u001b[0m\n\u001b[1;32m    733\u001b[0m                 \u001b[0;31m# re-raise KeyboardInterrupt, to truncate traceback\u001b[0m\u001b[0;34m\u001b[0m\u001b[0;34m\u001b[0m\u001b[0;34m\u001b[0m\u001b[0m\n\u001b[0;32m--> 734\u001b[0;31m                 \u001b[0;32mraise\u001b[0m \u001b[0mKeyboardInterrupt\u001b[0m\u001b[0;34m\u001b[0m\u001b[0;34m\u001b[0m\u001b[0m\n\u001b[0m\u001b[1;32m    735\u001b[0m             \u001b[0;32melse\u001b[0m\u001b[0;34m:\u001b[0m\u001b[0;34m\u001b[0m\u001b[0;34m\u001b[0m\u001b[0m\n\u001b[1;32m    736\u001b[0m                 \u001b[0;32mbreak\u001b[0m\u001b[0;34m\u001b[0m\u001b[0;34m\u001b[0m\u001b[0m\n",
            "\u001b[0;31mKeyboardInterrupt\u001b[0m: "
          ]
        }
      ]
    },
    {
      "cell_type": "markdown",
      "metadata": {
        "id": "LSZFpMI1TQrk",
        "colab_type": "text"
      },
      "source": [
        "#### Cadenas"
      ]
    },
    {
      "cell_type": "code",
      "metadata": {
        "id": "gl-905d8Pv0V",
        "colab_type": "code",
        "colab": {
          "base_uri": "https://localhost:8080/",
          "height": 131
        },
        "outputId": "5625f9cd-1f7d-40ac-f086-0c58b0510e1e"
      },
      "source": [
        "# Cadenas de carácteres\n",
        "# Indices \n",
        "cad = \"Curso Python\"\n",
        "dim = len(cad)\n",
        "print(dim)\n",
        "print(cad[7:])\n",
        "\n",
        "# Funciones para strings\n",
        "# Transformar a mayúsculas\n",
        "print(cad.upper())\n",
        "cad = cad.upper()\n",
        "\n",
        "# Transformar la cadena a minúsculas\n",
        "print(cad.lower())\n",
        "\n",
        "# Transformar cadena a tipo oración\n",
        "print(cad.title())\n",
        "\n",
        "# Reemplazar letras\n",
        "print(cad.replace(\"CURSO\", \"Taller\"))\n",
        "\n",
        "email = \"uolivares@unam.mx\"\n",
        "# Separar cadenas\n",
        "print(email.split(\"@\"))\n",
        "sep = email.split(\"@\")\n",
        "# Imprimir primer posición \n",
        "# del primer  elemento \n",
        "print(sep[0][0])\n",
        "\n",
        "# Ejercicio #2\n",
        "nombre = input(\"Ingresa el nombre completo N AP AM\")\n",
        "Edad = input(\"Ingresa la edad\")\n",
        "sexo = input(\"Ingresa el sexo Masculino/Femenino\")\n",
        "\n",
        "nombre = nombre.split()\n",
        "print(\"Las iniciales son: \" + nombre[0][0] + nombre[1][0] + nombre [2][0])\n",
        "print(\"El sexo es: \" + sexo.replace(\"Masculino\", \"M\"))\n",
        "print(\"El nombre es: \" + nombre[-2] +\" \" + nombre[-1]  + \" \"+ nombre[-3])\n",
        "\n"
      ],
      "execution_count": null,
      "outputs": [
        {
          "output_type": "error",
          "ename": "SyntaxError",
          "evalue": "ignored",
          "traceback": [
            "\u001b[0;36m  File \u001b[0;32m\"<ipython-input-9-02ff8453938f>\"\u001b[0;36m, line \u001b[0;32m38\u001b[0m\n\u001b[0;31m    print(\"El nombre es: \" + nombre[-2] +\" \" + nombre[-1] \" \"+ nombre[-3])\u001b[0m\n\u001b[0m                                                            ^\u001b[0m\n\u001b[0;31mSyntaxError\u001b[0m\u001b[0;31m:\u001b[0m invalid syntax\n"
          ]
        }
      ]
    },
    {
      "cell_type": "markdown",
      "metadata": {
        "id": "vGI2zIzfTV9U",
        "colab_type": "text"
      },
      "source": [
        "#### Listas"
      ]
    },
    {
      "cell_type": "code",
      "metadata": {
        "id": "q8kwYNddYa19",
        "colab_type": "code",
        "colab": {
          "base_uri": "https://localhost:8080/",
          "height": 155
        },
        "outputId": "493d3167-8039-4535-c0fe-8c533111b257"
      },
      "source": [
        "# Listas \n",
        "lista = [1,1,10,8, 4, 15, 6, 70, 18, 9, 10]\n",
        "print(lista)\n",
        "\n",
        "# Verificar la pertenencia de un elemento\n",
        "print(0 in lista)\n",
        "\n",
        "# Ordenar una lista\n",
        "lista.sort()\n",
        "\n",
        "# Insertar un elemento en una lista\n",
        "lista.insert(len(lista),0)\n",
        "print(lista)\n",
        "\n",
        "# Eliminar un elemento en una lista\n",
        "lista.remove(0)\n",
        "print(lista)\n",
        "\n",
        "# Eliminar el último elemento de la lista\n",
        "lista.pop()\n",
        "print(lista)\n",
        "\n",
        "# contar el número de 1s en una lista\n",
        "print(\"Existe un total de: \" + str(lista.count(1)) + \" de 1's en la lista\")\n",
        "\n",
        "# Ejercicio 3 Separar elementos por tipo y ordenarlos\n",
        "objetos = [\"zapato\", \"laptop\", 20, 12, 30]\n",
        "\n",
        "# Separar los elementos utilizando índices\n",
        "cad = objetos[0:2]\n",
        "enteros = objetos[2:5] \n",
        "\n",
        "# Ordenar elementos\n",
        "cad.sort()\n",
        "print(cad)\n",
        "\n",
        "enteros.sort()\n",
        "print(enteros)\n",
        "\n",
        "\n"
      ],
      "execution_count": null,
      "outputs": [
        {
          "output_type": "stream",
          "text": [
            "[1, 1, 10, 8, 4, 15, 6, 70, 18, 9, 10]\n",
            "False\n",
            "[1, 1, 4, 6, 8, 9, 10, 10, 15, 18, 70, 0]\n",
            "[1, 1, 4, 6, 8, 9, 10, 10, 15, 18, 70]\n",
            "[1, 1, 4, 6, 8, 9, 10, 10, 15, 18]\n",
            "Existe un total de: 2 de 1's en la lista\n",
            "['laptop', 'zapato']\n",
            "[12, 20, 30]\n"
          ],
          "name": "stdout"
        }
      ]
    },
    {
      "cell_type": "markdown",
      "metadata": {
        "id": "6yX15Bi0T-tz",
        "colab_type": "text"
      },
      "source": [
        "#### Conjuntos"
      ]
    },
    {
      "cell_type": "code",
      "metadata": {
        "id": "rm94VcP2Qvf4",
        "colab_type": "code",
        "colab": {}
      },
      "source": [
        "# Conjnuntos \n",
        "# Ejercicio 4\n",
        "\n",
        "set1 = {10, 20, 30, 40, 50}\n",
        "set2 = {60, 20, 80, 90, 10}\n",
        "\n",
        "type(set1)\n",
        "\n",
        "# Elementos en común \n",
        "print (\"Elementos en común: \" +str(set1 & set2))\n",
        "\n",
        "# Elementos si repeticiones (Unión)\n",
        "print(\"Elementos sin repetición: \" + str(set1|set2))\n",
        "\n",
        "# Primer conjunto sin elementos {10,20, 30}\n",
        "print(set1 - {10, 20, 30})\n",
        "\n"
      ],
      "execution_count": null,
      "outputs": []
    },
    {
      "cell_type": "markdown",
      "metadata": {
        "id": "iJmk2EL3UEXy",
        "colab_type": "text"
      },
      "source": [
        "#### Sentencias de control"
      ]
    },
    {
      "cell_type": "markdown",
      "metadata": {
        "id": "2wVpzy0aUI_S",
        "colab_type": "text"
      },
      "source": [
        "##### Condicionales"
      ]
    },
    {
      "cell_type": "code",
      "metadata": {
        "id": "bB5oScjZhzNG",
        "colab_type": "code",
        "colab": {
          "base_uri": "https://localhost:8080/",
          "height": 86
        },
        "outputId": "c0e96fb9-a6fc-4c54-dc49-79cbeeb3d7b7"
      },
      "source": [
        "# Sentencias de control\n",
        "# Condicionales\n",
        "a = 1\n",
        "b = 2\n",
        "if(a == b):\n",
        "  print(\"a y b son iguales\")\n",
        "elif(a>b):\n",
        "  print(\"a>b\")\n",
        "else:\n",
        "  print(\"b es el mayor\")\n",
        "\n",
        "# Determinar si un número es par\n",
        "print(a%2)\n",
        "if (a % 2 ==  0):\n",
        "  print(str(a) + \" es un número par\")\n",
        "else:\n",
        "  print(str(a) + \" es un número impar\")\n",
        "\n",
        "# Mayor de dos números\n",
        "if(b>a):\n",
        "  print(\"b es el mayor\")\n",
        "else:\n",
        "  print(\"a es el mayor\")\n",
        "\n",
        "  \n"
      ],
      "execution_count": null,
      "outputs": [
        {
          "output_type": "stream",
          "text": [
            "b es el mayor\n",
            "1\n",
            "1 es un número impar\n",
            "b es el mayor\n"
          ],
          "name": "stdout"
        }
      ]
    },
    {
      "cell_type": "markdown",
      "metadata": {
        "id": "5BK6ZYL5UMVJ",
        "colab_type": "text"
      },
      "source": [
        "##### Ciclos FOR"
      ]
    },
    {
      "cell_type": "code",
      "metadata": {
        "id": "RVorUqEMhxxQ",
        "colab_type": "code",
        "colab": {
          "base_uri": "https://localhost:8080/",
          "height": 380
        },
        "outputId": "989f0150-30e8-4060-c0dc-362440e0421c"
      },
      "source": [
        "# Ciclos FOR\n",
        "\n",
        "lista = [6, 2,3,4,5,6,7,8,9,10]\n",
        "\n",
        "for elemento in lista:\n",
        "  print(elemento)\n",
        "\n",
        "print(\"Segunda impresión\")\n",
        "\n",
        "for i in range(0, len(lista)):\n",
        "  print(lista[i])\n"
      ],
      "execution_count": null,
      "outputs": [
        {
          "output_type": "stream",
          "text": [
            "6\n",
            "2\n",
            "3\n",
            "4\n",
            "5\n",
            "6\n",
            "7\n",
            "8\n",
            "9\n",
            "10\n",
            "Segunda impresión\n",
            "6\n",
            "2\n",
            "3\n",
            "4\n",
            "5\n",
            "6\n",
            "7\n",
            "8\n",
            "9\n",
            "10\n"
          ],
          "name": "stdout"
        }
      ]
    },
    {
      "cell_type": "markdown",
      "metadata": {
        "id": "tjddq5ONPPx1",
        "colab_type": "text"
      },
      "source": [
        "## Serie de Fibonacci "
      ]
    },
    {
      "cell_type": "code",
      "metadata": {
        "id": "px03s9xhPa2q",
        "colab_type": "code",
        "colab": {
          "base_uri": "https://localhost:8080/",
          "height": 52
        },
        "outputId": "f92396a7-7384-4dad-efc6-8c2788ff5f6f"
      },
      "source": [
        "# Serie de fibonacci\n",
        "\n",
        "def fibonacci(n):\n",
        "  a = 0 \n",
        "  b = 1\n",
        "  print(\"Imprime la serie de Fibonacci hasta n = \" + str(n))\n",
        "  while(b<n):\n",
        "    tmp = b \n",
        "    b = a + b\n",
        "    a = tmp\n",
        "    print(b, end=\", \")\n",
        "\n",
        "fibonacci(100)"
      ],
      "execution_count": null,
      "outputs": [
        {
          "output_type": "stream",
          "text": [
            "Imprime la serie de Fibonacci hasta n = 100\n",
            "1, 2, 3, 5, 8, 13, 21, 34, 55, 89, 144, "
          ],
          "name": "stdout"
        }
      ]
    }
  ]
}