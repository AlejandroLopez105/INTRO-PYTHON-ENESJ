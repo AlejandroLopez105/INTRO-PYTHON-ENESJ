{
  "nbformat": 4,
  "nbformat_minor": 0,
  "metadata": {
    "colab": {
      "name": "día1.ipynb",
      "provenance": [],
      "collapsed_sections": [],
      "authorship_tag": "ABX9TyOJ0fc1JfI3mJzbvs/dL3oJ",
      "include_colab_link": true
    },
    "kernelspec": {
      "name": "python3",
      "display_name": "Python 3"
    }
  },
  "cells": [
    {
      "cell_type": "markdown",
      "metadata": {
        "id": "view-in-github",
        "colab_type": "text"
      },
      "source": [
        "<a href=\"https://colab.research.google.com/github/ulises1229/INTRO-PYTHON-ENESJ/blob/master/code/d%C3%ADa1.ipynb\" target=\"_parent\"><img src=\"https://colab.research.google.com/assets/colab-badge.svg\" alt=\"Open In Colab\"/></a>"
      ]
    },
    {
      "cell_type": "markdown",
      "metadata": {
        "id": "b-eudR2GKC0m",
        "colab_type": "text"
      },
      "source": [
        "## Día 1 - Curso-Taller: Introducción a Python\n",
        "##### Autor: Ulises Olivares\n",
        "##### uolivares@unam.mx\n",
        "##### 31 de agosto de 2020\n",
        "##### Versión de python: 3.8.X\n"
      ]
    },
    {
      "cell_type": "code",
      "metadata": {
        "id": "tPNJh9y9FSAg",
        "colab_type": "code",
        "colab": {}
      },
      "source": [
        ""
      ],
      "execution_count": null,
      "outputs": []
    },
    {
      "cell_type": "code",
      "metadata": {
        "id": "cMQgltlANDpS",
        "colab_type": "code",
        "colab": {
          "base_uri": "https://localhost:8080/",
          "height": 34
        },
        "outputId": "2aa2206c-475a-46bc-bc26-fdef32e6fe4d"
      },
      "source": [
        "# Mezclando strings con números\n",
        "a = 5\n",
        "b = 5\n",
        "\n",
        "print(\"El valor de a es: \" + str(a))"
      ],
      "execution_count": 3,
      "outputs": [
        {
          "output_type": "stream",
          "text": [
            "El valor de a es: 5\n"
          ],
          "name": "stdout"
        }
      ]
    },
    {
      "cell_type": "code",
      "metadata": {
        "id": "ssZuHWQ2FpeK",
        "colab_type": "code",
        "colab": {
          "base_uri": "https://localhost:8080/",
          "height": 87
        },
        "outputId": "192f7a3a-3c46-4346-f327-fb071de4c099"
      },
      "source": [
        "#Ingresando flujos desde teclado\n",
        "# Ejercicio 1\n",
        "num1 = float(input(\"Ingresa un primer número:\"))\n",
        "num2 = float(input(\"Ingresa un segundo número:\"))\n",
        "#opc = int(input(\"Selecciona la operación deseada \n",
        "#        \\n 1) Suma \\n 2) Resta, \\n 3) Multiplicación\"))\n",
        "suma = num1 - num2\n",
        "print(\"La resta es: \" + str(suma))\n",
        "type(suma)"
      ],
      "execution_count": 16,
      "outputs": [
        {
          "output_type": "stream",
          "text": [
            "Ingresa un primer número:2\n",
            "Ingresa un segundo número:1\n",
            "La resta es: 1.0\n"
          ],
          "name": "stdout"
        },
        {
          "output_type": "execute_result",
          "data": {
            "text/plain": [
              "float"
            ]
          },
          "metadata": {
            "tags": []
          },
          "execution_count": 16
        }
      ]
    },
    {
      "cell_type": "code",
      "metadata": {
        "id": "gl-905d8Pv0V",
        "colab_type": "code",
        "colab": {
          "base_uri": "https://localhost:8080/",
          "height": 262
        },
        "outputId": "b45b2aa7-5dfc-425d-a4bd-d5b0ee4c22c6"
      },
      "source": [
        "# Cadenas \n",
        "# Indices \n",
        "cad = \"Curso Python\"\n",
        "dim = len(cad)\n",
        "print(dim)\n",
        "print(cad[7:])\n",
        "\n",
        "# Funciones para strings\n",
        "# Transformar a mayúsculas\n",
        "print(cad.upper())\n",
        "cad = cad.upper()\n",
        "\n",
        "# Transformar la cadena a minúsculas\n",
        "print(cad.lower())\n",
        "\n",
        "# Transformar cadena a tipo oración\n",
        "print(cad.title())\n",
        "\n",
        "# Reemplazar letras\n",
        "print(cad.replace(\"CURSO\", \"Taller\"))\n",
        "\n",
        "email = \"uolivares@unam.mx\"\n",
        "# Separar cadenas\n",
        "print(email.split(\"@\"))\n",
        "sep = email.split(\"@\")\n",
        "# Imprimir primer posición \n",
        "# del primer  elemento \n",
        "print(sep[0][0])\n",
        "\n",
        "# Ejercicio #2\n",
        "nombre = input(\"Ingresa el nombre completo N AP AM\")\n",
        "Edad = input(\"Ingresa la edad\")\n",
        "sexo = input(\"Ingresa el sexo Masculino/Femenino\")\n",
        "\n",
        "nombre = nombre.split()\n",
        "print(\"Las iniciales son: \" + nombre[0][0] + nombre[1][0] + nombre [2][0])\n",
        "print(\"El sexo es: \" + sexo.replace(\"Masculino\", \"M\"))\n",
        "print(\"El nombre es: \" + nombre[-2] +\" \" + nombre[-1] \" \"+ nombre[-3])\n",
        "\n"
      ],
      "execution_count": 58,
      "outputs": [
        {
          "output_type": "stream",
          "text": [
            "12\n",
            "ython\n",
            "CURSO PYTHON\n",
            "curso python\n",
            "Curso Python\n",
            "Taller PYTHON\n",
            "['uolivares', 'unam.mx']\n",
            "u\n",
            "Ingresa el nombre completo N AP AMUlises Olivares Pinto\n",
            "Ingresa la edad32\n",
            "Ingresa el sexo Masculino/FemeninoMasculino\n",
            "Las iniciales son: UOP\n",
            "El sexo es: M\n",
            "El nombre es: PintoOlivaresUlises\n"
          ],
          "name": "stdout"
        }
      ]
    },
    {
      "cell_type": "code",
      "metadata": {
        "id": "q8kwYNddYa19",
        "colab_type": "code",
        "colab": {
          "base_uri": "https://localhost:8080/",
          "height": 157
        },
        "outputId": "16c16728-030b-4a50-c013-e5086f758865"
      },
      "source": [
        "# Listas \n",
        "\n",
        "lista = [1,1,10,8, 4, 15, 6, 70, 18, 9, 10]\n",
        "print(lista)\n",
        "\n",
        "# Verificar la pertenencia de un elemento\n",
        "print(0 in lista)\n",
        "\n",
        "# Ordenar una lista\n",
        "lista.sort()\n",
        "lista.insert(len(lista),0)\n",
        "print(lista)\n",
        "lista.remove(0)\n",
        "print(lista)\n",
        "# Eliminar el último elemento\n",
        "lista.pop()\n",
        "print(lista)\n",
        "# contar elementos en una lista\n",
        "print(\"1s en la lista \" + str(lista.count(1)))\n",
        "\n",
        "# Ejercicio 3 \n",
        "objetos = [\"zapato\", \"laptop\", 20, 12, 30]\n",
        "cad = objetos[0:2]\n",
        "enteros = objetos[2:5] \n",
        "\n",
        "# Ordenar elementos\n",
        "cad.sort()\n",
        "print(cad)\n",
        "enteros.sort()\n",
        "print(enteros)\n",
        "\n",
        "\n"
      ],
      "execution_count": 81,
      "outputs": [
        {
          "output_type": "stream",
          "text": [
            "[1, 1, 10, 8, 4, 15, 6, 70, 18, 9, 10]\n",
            "False\n",
            "[1, 1, 4, 6, 8, 9, 10, 10, 15, 18, 70, 0]\n",
            "[1, 1, 4, 6, 8, 9, 10, 10, 15, 18, 70]\n",
            "[1, 1, 4, 6, 8, 9, 10, 10, 15, 18]\n",
            "1s en la lista 2\n",
            "['laptop', 'zapato']\n",
            "[12, 20, 30]\n"
          ],
          "name": "stdout"
        }
      ]
    },
    {
      "cell_type": "code",
      "metadata": {
        "id": "rm94VcP2Qvf4",
        "colab_type": "code",
        "colab": {
          "base_uri": "https://localhost:8080/",
          "height": 69
        },
        "outputId": "fe21d3af-ff6a-4a74-e96f-6f0be5d5a8a6"
      },
      "source": [
        "# Conjnuntos \n",
        "# Ejercicio 4\n",
        "\n",
        "set1 = {10, 20, 30, 40, 50}\n",
        "set2 = {60, 20, 80, 90, 10}\n",
        "\n",
        "type(set1)\n",
        "\n",
        "# Elementos en común \n",
        "print (\"Elementos en común: \" +str(set1 & set2))\n",
        "\n",
        "# Elementos si repeticiones (Unión)\n",
        "print(\"Elementos sin repetición: \" + str(set1|set2))\n",
        "\n",
        "# Primer conjunto sin elementos {10,20, 30}\n",
        "print(set1 - {10, 20, 30})\n",
        "\n"
      ],
      "execution_count": 95,
      "outputs": [
        {
          "output_type": "stream",
          "text": [
            "Elementos en común: {10, 20}\n",
            "Elementos sin repetición: {40, 10, 80, 50, 20, 90, 60, 30}\n",
            "{40, 50}\n"
          ],
          "name": "stdout"
        }
      ]
    },
    {
      "cell_type": "code",
      "metadata": {
        "id": "bB5oScjZhzNG",
        "colab_type": "code",
        "colab": {
          "base_uri": "https://localhost:8080/",
          "height": 87
        },
        "outputId": "0d89430e-bd24-4b9a-ae86-c861fcfea763"
      },
      "source": [
        "# Ciclos de control\n",
        "# Condicionales\n",
        "a = 1\n",
        "b = 2\n",
        "if(a == b):\n",
        "  print(\"a y b son iguales\")\n",
        "elif(a>b):\n",
        "  print(\"a>b\")\n",
        "else:\n",
        "  print(\"b es el mayor\")\n",
        "\n",
        "# Determinar si un número es par\n",
        "print(a%2)\n",
        "if (a % 2 ==  0):\n",
        "  print(str(a) + \" es un número par\")\n",
        "else:\n",
        "  print(str(a) + \" es un número impar\")\n",
        "\n",
        "# Mayor de dos números\n",
        "if(b>a):\n",
        "  print(\"b es el mayor\")\n",
        "else:\n",
        "  print(\"a es el mayor\")\n",
        "\n",
        "  \n"
      ],
      "execution_count": 102,
      "outputs": [
        {
          "output_type": "stream",
          "text": [
            "b es el mayor\n",
            "1\n",
            "1 es un número impar\n",
            "b es el mayor\n"
          ],
          "name": "stdout"
        }
      ]
    },
    {
      "cell_type": "code",
      "metadata": {
        "id": "RVorUqEMhxxQ",
        "colab_type": "code",
        "colab": {
          "base_uri": "https://localhost:8080/",
          "height": 384
        },
        "outputId": "47bf5c93-68f6-4216-ae5b-c0a85bc5b664"
      },
      "source": [
        "# Ciclos FOR\n",
        "\n",
        "list = [6, 2,3,4,5,6,7,8,9,10]\n",
        "\n",
        "for elemento in list:\n",
        "  print(elemento)\n",
        "\n",
        "print(\"Segunda impresión\")\n",
        "\n",
        "for i in range(0, len(list)):\n",
        "  print(list[i])\n"
      ],
      "execution_count": 108,
      "outputs": [
        {
          "output_type": "stream",
          "text": [
            "6\n",
            "2\n",
            "3\n",
            "4\n",
            "5\n",
            "6\n",
            "7\n",
            "8\n",
            "9\n",
            "10\n",
            "Segunda impresión\n",
            "6\n",
            "2\n",
            "3\n",
            "4\n",
            "5\n",
            "6\n",
            "7\n",
            "8\n",
            "9\n",
            "10\n"
          ],
          "name": "stdout"
        }
      ]
    }
  ]
}