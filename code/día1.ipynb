{
  "nbformat": 4,
  "nbformat_minor": 0,
  "metadata": {
    "colab": {
      "name": "día1.ipynb",
      "provenance": [],
      "collapsed_sections": [],
      "toc_visible": true,
      "authorship_tag": "ABX9TyNtHxZguVvQ/Rx6lY2lqEvs",
      "include_colab_link": true
    },
    "kernelspec": {
      "name": "python3",
      "display_name": "Python 3"
    }
  },
  "cells": [
    {
      "cell_type": "markdown",
      "metadata": {
        "id": "view-in-github",
        "colab_type": "text"
      },
      "source": [
        "<a href=\"https://colab.research.google.com/github/ulises1229/INTRO-PYTHON-ENESJ/blob/master/code/d%C3%ADa1.ipynb\" target=\"_parent\"><img src=\"https://colab.research.google.com/assets/colab-badge.svg\" alt=\"Open In Colab\"/></a>"
      ]
    },
    {
      "cell_type": "markdown",
      "metadata": {
        "id": "b-eudR2GKC0m",
        "colab_type": "text"
      },
      "source": [
        "## Día 1 - Curso-Taller: Introducción a Python\n",
        "##### Autor: Ulises Olivares\n",
        "##### uolivares@unam.mx\n",
        "##### 31 de agosto de 2020\n",
        "##### Versión de python: 3.8.X\n"
      ]
    },
    {
      "cell_type": "code",
      "metadata": {
        "id": "tPNJh9y9FSAg",
        "colab_type": "code",
        "colab": {}
      },
      "source": [
        ""
      ],
      "execution_count": null,
      "outputs": []
    },
    {
      "cell_type": "code",
      "metadata": {
        "id": "cMQgltlANDpS",
        "colab_type": "code",
        "colab": {
          "base_uri": "https://localhost:8080/",
          "height": 34
        },
        "outputId": "2aa2206c-475a-46bc-bc26-fdef32e6fe4d"
      },
      "source": [
        "# Mezclando strings con números\n",
        "a = 5\n",
        "b = 5\n",
        "\n",
        "print(\"El valor de a es: \" + str(a))"
      ],
      "execution_count": 3,
      "outputs": [
        {
          "output_type": "stream",
          "text": [
            "El valor de a es: 5\n"
          ],
          "name": "stdout"
        }
      ]
    },
    {
      "cell_type": "code",
      "metadata": {
        "id": "ssZuHWQ2FpeK",
        "colab_type": "code",
        "colab": {
          "base_uri": "https://localhost:8080/",
          "height": 87
        },
        "outputId": "192f7a3a-3c46-4346-f327-fb071de4c099"
      },
      "source": [
        "#Ingresando flujos desde teclado\n",
        "# Ejercicio 1\n",
        "num1 = float(input(\"Ingresa un primer número:\"))\n",
        "num2 = float(input(\"Ingresa un segundo número:\"))\n",
        "#opc = int(input(\"Selecciona la operación deseada \n",
        "#        \\n 1) Suma \\n 2) Resta, \\n 3) Multiplicación\"))\n",
        "suma = num1 - num2\n",
        "print(\"La resta es: \" + str(suma))\n",
        "type(suma)"
      ],
      "execution_count": 16,
      "outputs": [
        {
          "output_type": "stream",
          "text": [
            "Ingresa un primer número:2\n",
            "Ingresa un segundo número:1\n",
            "La resta es: 1.0\n"
          ],
          "name": "stdout"
        },
        {
          "output_type": "execute_result",
          "data": {
            "text/plain": [
              "float"
            ]
          },
          "metadata": {
            "tags": []
          },
          "execution_count": 16
        }
      ]
    },
    {
      "cell_type": "code",
      "metadata": {
        "id": "gl-905d8Pv0V",
        "colab_type": "code",
        "colab": {
          "base_uri": "https://localhost:8080/",
          "height": 262
        },
        "outputId": "b45b2aa7-5dfc-425d-a4bd-d5b0ee4c22c6"
      },
      "source": [
        "# Cadenas \n",
        "# Indices \n",
        "cad = \"Curso Python\"\n",
        "dim = len(cad)\n",
        "print(dim)\n",
        "print(cad[7:])\n",
        "\n",
        "# Funciones para strings\n",
        "# Transformar a mayúsculas\n",
        "print(cad.upper())\n",
        "cad = cad.upper()\n",
        "\n",
        "# Transformar la cadena a minúsculas\n",
        "print(cad.lower())\n",
        "\n",
        "# Transformar cadena a tipo oración\n",
        "print(cad.title())\n",
        "\n",
        "# Reemplazar letras\n",
        "print(cad.replace(\"CURSO\", \"Taller\"))\n",
        "\n",
        "email = \"uolivares@unam.mx\"\n",
        "# Separar cadenas\n",
        "print(email.split(\"@\"))\n",
        "sep = email.split(\"@\")\n",
        "# Imprimir primer posición \n",
        "# del primer  elemento \n",
        "print(sep[0][0])\n",
        "\n",
        "# Ejercicio #2\n",
        "nombre = input(\"Ingresa el nombre completo N AP AM\")\n",
        "Edad = input(\"Ingresa la edad\")\n",
        "sexo = input(\"Ingresa el sexo Masculino/Femenino\")\n",
        "\n",
        "nombre = nombre.split()\n",
        "print(\"Las iniciales son: \" + nombre[0][0] + nombre[1][0] + nombre [2][0])\n",
        "print(\"El sexo es: \" + sexo.replace(\"Masculino\", \"M\"))\n",
        "print(\"El nombre es: \" + nombre[-2] +\" \" + nombre[-1] \" \"+ nombre[-3])\n",
        "\n"
      ],
      "execution_count": 58,
      "outputs": [
        {
          "output_type": "stream",
          "text": [
            "12\n",
            "ython\n",
            "CURSO PYTHON\n",
            "curso python\n",
            "Curso Python\n",
            "Taller PYTHON\n",
            "['uolivares', 'unam.mx']\n",
            "u\n",
            "Ingresa el nombre completo N AP AMUlises Olivares Pinto\n",
            "Ingresa la edad32\n",
            "Ingresa el sexo Masculino/FemeninoMasculino\n",
            "Las iniciales son: UOP\n",
            "El sexo es: M\n",
            "El nombre es: PintoOlivaresUlises\n"
          ],
          "name": "stdout"
        }
      ]
    },
    {
      "cell_type": "code",
      "metadata": {
        "id": "q8kwYNddYa19",
        "colab_type": "code",
        "colab": {
          "base_uri": "https://localhost:8080/",
          "height": 122
        },
        "outputId": "0a35684b-6d69-49f2-d3df-dc30fc8310c3"
      },
      "source": [
        "# Listas \n",
        "\n",
        "lista = [1,1,10,8, 4, 15, 6, 70, 18, 9, 10]\n",
        "print(lista)\n",
        "\n",
        "# Verificar la pertenencia de un elemento\n",
        "print(0 in lista)\n",
        "\n",
        "# Ordenar una lista\n",
        "lista.sort()\n",
        "lista.insert(len(lista),0)\n",
        "print(lista)\n",
        "lista.remove(0)\n",
        "print(lista)\n",
        "# Eliminar el último elemento\n",
        "lista.pop()\n",
        "print(lista)\n",
        "# contar elementos en una lista\n",
        "print(\"1s en la lista \" + str(lista.count(1)))\n",
        "\n",
        "\n",
        "\n"
      ],
      "execution_count": 76,
      "outputs": [
        {
          "output_type": "stream",
          "text": [
            "[1, 1, 10, 8, 4, 15, 6, 70, 18, 9, 10]\n",
            "False\n",
            "[1, 1, 4, 6, 8, 9, 10, 10, 15, 18, 70, 0]\n",
            "[1, 1, 4, 6, 8, 9, 10, 10, 15, 18, 70]\n",
            "1s en la lista 2\n",
            "[1, 1, 4, 6, 8, 9, 10, 10, 15, 18]\n"
          ],
          "name": "stdout"
        }
      ]
    },
    {
      "cell_type": "code",
      "metadata": {
        "id": "rm94VcP2Qvf4",
        "colab_type": "code",
        "colab": {}
      },
      "source": [
        ""
      ],
      "execution_count": null,
      "outputs": []
    },
    {
      "cell_type": "code",
      "metadata": {
        "id": "MxhW3CDjQIiv",
        "colab_type": "code",
        "colab": {}
      },
      "source": [
        ""
      ],
      "execution_count": null,
      "outputs": []
    },
    {
      "cell_type": "code",
      "metadata": {
        "id": "4rMnK75eQE78",
        "colab_type": "code",
        "colab": {}
      },
      "source": [
        ""
      ],
      "execution_count": null,
      "outputs": []
    }
  ]
}