{
  "nbformat": 4,
  "nbformat_minor": 0,
  "metadata": {
    "colab": {
      "name": "día1.ipynb",
      "provenance": [],
      "collapsed_sections": [],
      "authorship_tag": "ABX9TyNZSp/I3t7fMclNDFYnYND7",
      "include_colab_link": true
    },
    "kernelspec": {
      "name": "python3",
      "display_name": "Python 3"
    }
  },
  "cells": [
    {
      "cell_type": "markdown",
      "metadata": {
        "id": "view-in-github",
        "colab_type": "text"
      },
      "source": [
        "<a href=\"https://colab.research.google.com/github/ulises1229/INTRO-PYTHON-ENESJ/blob/master/code/d%C3%ADa1.ipynb\" target=\"_parent\"><img src=\"https://colab.research.google.com/assets/colab-badge.svg\" alt=\"Open In Colab\"/></a>"
      ]
    },
    {
      "cell_type": "markdown",
      "metadata": {
        "id": "b-eudR2GKC0m",
        "colab_type": "text"
      },
      "source": [
        "## Día 1 - Curso-Taller: Introducción a Python\n",
        "##### Autor: Ulises Olivares\n",
        "##### uolivares@unam.mx\n",
        "##### 31 de agosto de 2020\n",
        "##### Versión de python: 3.8.X\n"
      ]
    },
    {
      "cell_type": "code",
      "metadata": {
        "id": "tPNJh9y9FSAg",
        "colab_type": "code",
        "colab": {}
      },
      "source": [
        ""
      ],
      "execution_count": null,
      "outputs": []
    },
    {
      "cell_type": "code",
      "metadata": {
        "id": "cMQgltlANDpS",
        "colab_type": "code",
        "colab": {
          "base_uri": "https://localhost:8080/",
          "height": 35
        },
        "outputId": "2aa2206c-475a-46bc-bc26-fdef32e6fe4d"
      },
      "source": [
        "# Mezclando strings con números\n",
        "a = 5\n",
        "b = 5\n",
        "\n",
        "print(\"El valor de a es: \" + str(a))"
      ],
      "execution_count": 3,
      "outputs": [
        {
          "output_type": "stream",
          "text": [
            "El valor de a es: 5\n"
          ],
          "name": "stdout"
        }
      ]
    },
    {
      "cell_type": "code",
      "metadata": {
        "id": "ssZuHWQ2FpeK",
        "colab_type": "code",
        "colab": {
          "base_uri": "https://localhost:8080/",
          "height": 87
        },
        "outputId": "7137ce81-20e2-45d1-d297-3e9333cd2744"
      },
      "source": [
        "#Ingresando flujos desde teclado\n",
        "num1 = int(input(\"Ingresa un primer número:\"))\n",
        "num2 = int(input(\"Ingresa un segundo número:\"))\n",
        "opc = int(input(\"Selecciona la operación deseada \n",
        "        \\n 1) Suma \\n 2) Resta, \\n 3) Multiplicación\"))\n",
        "suma = num1 + num2\n",
        "print(\"La suma es: \" + str(suma))\n",
        "type(suma)"
      ],
      "execution_count": 12,
      "outputs": [
        {
          "output_type": "stream",
          "text": [
            "Ingresa un número:1\n",
            "Ingresa un segundo número:2\n",
            "La suma es: 3\n"
          ],
          "name": "stdout"
        },
        {
          "output_type": "execute_result",
          "data": {
            "text/plain": [
              "int"
            ]
          },
          "metadata": {
            "tags": []
          },
          "execution_count": 12
        }
      ]
    },
    {
      "cell_type": "code",
      "metadata": {
        "id": "gl-905d8Pv0V",
        "colab_type": "code",
        "colab": {}
      },
      "source": [
        ""
      ],
      "execution_count": null,
      "outputs": []
    },
    {
      "cell_type": "code",
      "metadata": {
        "id": "4rMnK75eQE78",
        "colab_type": "code",
        "colab": {}
      },
      "source": [
        ""
      ],
      "execution_count": null,
      "outputs": []
    }
  ]
}