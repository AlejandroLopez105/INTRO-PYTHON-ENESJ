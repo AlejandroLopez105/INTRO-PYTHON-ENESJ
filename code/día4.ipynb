{
  "nbformat": 4,
  "nbformat_minor": 0,
  "metadata": {
    "colab": {
      "name": "Día4.ipynb",
      "provenance": [],
      "collapsed_sections": [],
      "include_colab_link": true
    },
    "kernelspec": {
      "name": "python3",
      "display_name": "Python 3"
    }
  },
  "cells": [
    {
      "cell_type": "markdown",
      "metadata": {
        "id": "view-in-github",
        "colab_type": "text"
      },
      "source": [
        "<a href=\"https://colab.research.google.com/github/ulises1229/INTRO-PYTHON-ENESJ/blob/master/code/d%C3%ADa4.ipynb\" target=\"_parent\"><img src=\"https://colab.research.google.com/assets/colab-badge.svg\" alt=\"Open In Colab\"/></a>"
      ]
    },
    {
      "cell_type": "markdown",
      "metadata": {
        "id": "ilQAOcHY8uHR",
        "colab_type": "text"
      },
      "source": [
        "## Día4 - Visualización de datos y Matemáticas Simbólicas\n",
        "+ Autor: Ulises Olivares\n",
        "+ uolivares@unam.mx\n",
        "+ 03 de septiembre de **2020**"
      ]
    },
    {
      "cell_type": "code",
      "metadata": {
        "id": "4wY5yUFr80Gy",
        "colab_type": "code",
        "colab": {
          "base_uri": "https://localhost:8080/",
          "height": 203
        },
        "outputId": "006fcba1-1df8-4af3-d83a-8e10fde4cce5"
      },
      "source": [
        "# importar la librería de pandas como pd\n",
        "import pandas as pd\n",
        "\n",
        "#Leer el dataframe salaries.csv\n",
        "df = pd.read_csv(\"https://raw.githubusercontent.com/ulises1229/INTRO-PYTHON-ENESJ/master/data/salaries.csv\")\n",
        "df.head()"
      ],
      "execution_count": null,
      "outputs": [
        {
          "output_type": "execute_result",
          "data": {
            "text/html": [
              "<div>\n",
              "<style scoped>\n",
              "    .dataframe tbody tr th:only-of-type {\n",
              "        vertical-align: middle;\n",
              "    }\n",
              "\n",
              "    .dataframe tbody tr th {\n",
              "        vertical-align: top;\n",
              "    }\n",
              "\n",
              "    .dataframe thead th {\n",
              "        text-align: right;\n",
              "    }\n",
              "</style>\n",
              "<table border=\"1\" class=\"dataframe\">\n",
              "  <thead>\n",
              "    <tr style=\"text-align: right;\">\n",
              "      <th></th>\n",
              "      <th>rank</th>\n",
              "      <th>discipline</th>\n",
              "      <th>phd</th>\n",
              "      <th>service</th>\n",
              "      <th>sex</th>\n",
              "      <th>salary</th>\n",
              "    </tr>\n",
              "  </thead>\n",
              "  <tbody>\n",
              "    <tr>\n",
              "      <th>0</th>\n",
              "      <td>Prof</td>\n",
              "      <td>B</td>\n",
              "      <td>56</td>\n",
              "      <td>49</td>\n",
              "      <td>Male</td>\n",
              "      <td>186960</td>\n",
              "    </tr>\n",
              "    <tr>\n",
              "      <th>1</th>\n",
              "      <td>Prof</td>\n",
              "      <td>A</td>\n",
              "      <td>12</td>\n",
              "      <td>6</td>\n",
              "      <td>Male</td>\n",
              "      <td>93000</td>\n",
              "    </tr>\n",
              "    <tr>\n",
              "      <th>2</th>\n",
              "      <td>Prof</td>\n",
              "      <td>A</td>\n",
              "      <td>23</td>\n",
              "      <td>20</td>\n",
              "      <td>Male</td>\n",
              "      <td>110515</td>\n",
              "    </tr>\n",
              "    <tr>\n",
              "      <th>3</th>\n",
              "      <td>Prof</td>\n",
              "      <td>A</td>\n",
              "      <td>40</td>\n",
              "      <td>31</td>\n",
              "      <td>Male</td>\n",
              "      <td>131205</td>\n",
              "    </tr>\n",
              "    <tr>\n",
              "      <th>4</th>\n",
              "      <td>Prof</td>\n",
              "      <td>B</td>\n",
              "      <td>20</td>\n",
              "      <td>18</td>\n",
              "      <td>Male</td>\n",
              "      <td>104800</td>\n",
              "    </tr>\n",
              "  </tbody>\n",
              "</table>\n",
              "</div>"
            ],
            "text/plain": [
              "   rank discipline  phd  service   sex  salary\n",
              "0  Prof          B   56       49  Male  186960\n",
              "1  Prof          A   12        6  Male   93000\n",
              "2  Prof          A   23       20  Male  110515\n",
              "3  Prof          A   40       31  Male  131205\n",
              "4  Prof          B   20       18  Male  104800"
            ]
          },
          "metadata": {
            "tags": []
          },
          "execution_count": 85
        }
      ]
    },
    {
      "cell_type": "markdown",
      "metadata": {
        "id": "h0FyY51mKvHR",
        "colab_type": "text"
      },
      "source": [
        "##1. Gráficos de dispersión (Scatter)"
      ]
    },
    {
      "cell_type": "code",
      "metadata": {
        "id": "Mg6DF7HC-NMx",
        "colab_type": "code",
        "colab": {
          "base_uri": "https://localhost:8080/",
          "height": 295
        },
        "outputId": "b596b8c5-a619-4d1a-8833-7aa6136105e4"
      },
      "source": [
        "# Importar librería Matplotlib\n",
        "import matplotlib.pyplot as plt\n",
        "\n",
        "# Almacenar variables x = años servicio y y = salario\n",
        "x = df.service\n",
        "y = df.salary\n",
        "\n",
        "# Generar diagrama de dispersión\n",
        "plt.scatter(x, y)\n",
        "\n",
        "# Títulos: gráfico y ejes \n",
        "plt.title(\"Gráfico de Dispersión Años de servicio vs Salario\")\n",
        "plt.xlabel('Años de servicio')\n",
        "plt.ylabel('Salario Anual')\n",
        "\n",
        "# Desplegar imagen en pantalla\n",
        "plt.show()"
      ],
      "execution_count": null,
      "outputs": [
        {
          "output_type": "display_data",
          "data": {
            "image/png": "[encoded data removed]",
            "text/plain": [
              "<Figure size 432x288 with 1 Axes>"
            ]
          },
          "metadata": {
            "tags": [],
            "needs_background": "light"
          }
        }
      ]
    },
    {
      "cell_type": "markdown",
      "metadata": {
        "id": "pZtLeDVwZC2t",
        "colab_type": "text"
      },
      "source": [
        "### Añadir Colores y modificar el tamaño del gráfico"
      ]
    },
    {
      "cell_type": "code",
      "metadata": {
        "id": "w7YDLdjiYKSs",
        "colab_type": "code",
        "colab": {
          "base_uri": "https://localhost:8080/",
          "height": 295
        },
        "outputId": "732a4939-4ea6-4e06-ff08-bb10dfb27369"
      },
      "source": [
        "# Importar librería de numpy\n",
        "import numpy as np\n",
        "\n",
        "# Almacenar variables x = años servicio y y = salario\n",
        "x = df.service\n",
        "y = df.salary\n",
        "lab = ['Male', 'Female']\n",
        "\n",
        "# Arreglo de colores\n",
        "colores = np.arange(len(x))\n",
        "\n",
        "# Títulos: gráfico y ejes \n",
        "plt.title(\"Gráfico de Dispersión Años de servicio vs Salario\")\n",
        "plt.xlabel('Años de servicio')\n",
        "plt.ylabel('Salario Anual')\n",
        "\n",
        "# Agregar un scatter con colores y transparencia\n",
        "plt.scatter(x, y, c=colores, alpha = 0.5, s = (y*0.002))\n",
        "\n",
        "#plt.show()\n",
        "plt.savefig(\"dispersión.tiff\", dpi=300, quality = 95, bbox_inches='tight')"
      ],
      "execution_count": null,
      "outputs": [
        {
          "output_type": "display_data",
          "data": {
            "image/png": "[encoded data removed]",
            "text/plain": [
              "<Figure size 432x288 with 1 Axes>"
            ]
          },
          "metadata": {
            "tags": [],
            "needs_background": "light"
          }
        }
      ]
    },
    {
      "cell_type": "markdown",
      "metadata": {
        "id": "-IozdV_DfSoT",
        "colab_type": "text"
      },
      "source": [
        "### Agregar una leyenda a los datos"
      ]
    },
    {
      "cell_type": "code",
      "metadata": {
        "id": "AvCdA-lEfWMp",
        "colab_type": "code",
        "colab": {
          "base_uri": "https://localhost:8080/",
          "height": 295
        },
        "outputId": "e36ea7d7-843e-4317-f1fe-05aa28349217"
      },
      "source": [
        "# Almacenar variables x = años servicio y y = salario\n",
        "x = df.service\n",
        "y = df.salary\n",
        "lab = ['Male', 'Female']\n",
        "\n",
        "# Arreglo de colores\n",
        "colores = np.arange(len(x))\n",
        "\n",
        "# Títulos: gráfico y ejes \n",
        "plt.title(\"Gráfico de Dispersión Años de servicio vs Salario\")\n",
        "plt.xlabel('Años de servicio')\n",
        "plt.ylabel('Salario Anual')\n",
        "\n",
        "# Agregar un scatter con colores, transparencia y leyenda\n",
        "plt.scatter(x, y, c=colores, alpha = 0.5, s = (y*0.002), label = \"datos\")\n",
        "plt.legend(loc='best')\n",
        "\n",
        "#plt.show()\n",
        "plt.savefig(\"dispersión.tiff\", dpi=300, quality = 95, bbox_inches='tight')"
      ],
      "execution_count": null,
      "outputs": [
        {
          "output_type": "display_data",
          "data": {
            "image/png": "[encoded data removed]",
            "text/plain": [
              "<Figure size 432x288 with 1 Axes>"
            ]
          },
          "metadata": {
            "tags": [],
            "needs_background": "light"
          }
        }
      ]
    },
    {
      "cell_type": "markdown",
      "metadata": {
        "id": "7xqYYS_CihOi",
        "colab_type": "text"
      },
      "source": [
        "### Exportando un gráfico"
      ]
    },
    {
      "cell_type": "code",
      "metadata": {
        "id": "p6ui5FvWX787",
        "colab_type": "code",
        "colab": {}
      },
      "source": [
        "# guarda la imagen en un archivo\n",
        "plt.savefig(\"dispersión.tiff\", dpi=300, quality = 95, bbox_inches='tight')"
      ],
      "execution_count": null,
      "outputs": []
    },
    {
      "cell_type": "markdown",
      "metadata": {
        "id": "5QcndDlEiopV",
        "colab_type": "text"
      },
      "source": [
        "### Ejercicio 1\n",
        "\n",
        "\n",
        "Emplear el dataframe **mpg.csv** Está en el repositorio de GitHub: https://raw.githubusercontent.com/ulises1229/INTRO-PYTHON-ENESJ/master/data/mpg.csv\n",
        "\n",
        "1. Se deberá generar un gráfico de dispersión del desplazamiento del motor vs rendimiento en autopista.\n",
        "\n",
        "2. Se deberá generar un segundo gráfico de desplazamiento del motor vs rendimiento en ciudad.\n",
        "\n",
        "3. Exportar un gráfico con una resolución de 300 dpi"
      ]
    },
    {
      "cell_type": "code",
      "metadata": {
        "id": "rWkuIcZ9isGT",
        "colab_type": "code",
        "colab": {
          "base_uri": "https://localhost:8080/",
          "height": 203
        },
        "outputId": "65da2b05-c6b6-42ce-f1ac-39ffaefe413d"
      },
      "source": [
        "# Código aquí\n",
        "\n",
        "# Import Pandas lib\n",
        "import pandas as pd\n",
        "import matplotlib.pyplot as plt\n",
        "\n",
        "\n",
        "dfMpg = pd.read_csv('https://raw.githubusercontent.com/ulises1229/INTRO-PYTHON-ENESJ/master/data/mpg.csv')\n",
        "dfMpg.head()\n",
        "\n",
        "\n"
      ],
      "execution_count": 98,
      "outputs": [
        {
          "output_type": "execute_result",
          "data": {
            "text/html": [
              "<div>\n",
              "<style scoped>\n",
              "    .dataframe tbody tr th:only-of-type {\n",
              "        vertical-align: middle;\n",
              "    }\n",
              "\n",
              "    .dataframe tbody tr th {\n",
              "        vertical-align: top;\n",
              "    }\n",
              "\n",
              "    .dataframe thead th {\n",
              "        text-align: right;\n",
              "    }\n",
              "</style>\n",
              "<table border=\"1\" class=\"dataframe\">\n",
              "  <thead>\n",
              "    <tr style=\"text-align: right;\">\n",
              "      <th></th>\n",
              "      <th>Unnamed: 0</th>\n",
              "      <th>manufacturer</th>\n",
              "      <th>model</th>\n",
              "      <th>displ</th>\n",
              "      <th>year</th>\n",
              "      <th>cyl</th>\n",
              "      <th>trans</th>\n",
              "      <th>drv</th>\n",
              "      <th>cty</th>\n",
              "      <th>hwy</th>\n",
              "      <th>fl</th>\n",
              "      <th>class</th>\n",
              "    </tr>\n",
              "  </thead>\n",
              "  <tbody>\n",
              "    <tr>\n",
              "      <th>0</th>\n",
              "      <td>1</td>\n",
              "      <td>audi</td>\n",
              "      <td>a4</td>\n",
              "      <td>1.8</td>\n",
              "      <td>1999</td>\n",
              "      <td>4</td>\n",
              "      <td>auto(l5)</td>\n",
              "      <td>f</td>\n",
              "      <td>18</td>\n",
              "      <td>29</td>\n",
              "      <td>p</td>\n",
              "      <td>compact</td>\n",
              "    </tr>\n",
              "    <tr>\n",
              "      <th>1</th>\n",
              "      <td>2</td>\n",
              "      <td>audi</td>\n",
              "      <td>a4</td>\n",
              "      <td>1.8</td>\n",
              "      <td>1999</td>\n",
              "      <td>4</td>\n",
              "      <td>manual(m5)</td>\n",
              "      <td>f</td>\n",
              "      <td>21</td>\n",
              "      <td>29</td>\n",
              "      <td>p</td>\n",
              "      <td>compact</td>\n",
              "    </tr>\n",
              "    <tr>\n",
              "      <th>2</th>\n",
              "      <td>3</td>\n",
              "      <td>audi</td>\n",
              "      <td>a4</td>\n",
              "      <td>2.0</td>\n",
              "      <td>2008</td>\n",
              "      <td>4</td>\n",
              "      <td>manual(m6)</td>\n",
              "      <td>f</td>\n",
              "      <td>20</td>\n",
              "      <td>31</td>\n",
              "      <td>p</td>\n",
              "      <td>compact</td>\n",
              "    </tr>\n",
              "    <tr>\n",
              "      <th>3</th>\n",
              "      <td>4</td>\n",
              "      <td>audi</td>\n",
              "      <td>a4</td>\n",
              "      <td>2.0</td>\n",
              "      <td>2008</td>\n",
              "      <td>4</td>\n",
              "      <td>auto(av)</td>\n",
              "      <td>f</td>\n",
              "      <td>21</td>\n",
              "      <td>30</td>\n",
              "      <td>p</td>\n",
              "      <td>compact</td>\n",
              "    </tr>\n",
              "    <tr>\n",
              "      <th>4</th>\n",
              "      <td>5</td>\n",
              "      <td>audi</td>\n",
              "      <td>a4</td>\n",
              "      <td>2.8</td>\n",
              "      <td>1999</td>\n",
              "      <td>6</td>\n",
              "      <td>auto(l5)</td>\n",
              "      <td>f</td>\n",
              "      <td>16</td>\n",
              "      <td>26</td>\n",
              "      <td>p</td>\n",
              "      <td>compact</td>\n",
              "    </tr>\n",
              "  </tbody>\n",
              "</table>\n",
              "</div>"
            ],
            "text/plain": [
              "   Unnamed: 0 manufacturer model  displ  year  ...  drv cty hwy  fl    class\n",
              "0           1         audi    a4    1.8  1999  ...    f  18  29   p  compact\n",
              "1           2         audi    a4    1.8  1999  ...    f  21  29   p  compact\n",
              "2           3         audi    a4    2.0  2008  ...    f  20  31   p  compact\n",
              "3           4         audi    a4    2.0  2008  ...    f  21  30   p  compact\n",
              "4           5         audi    a4    2.8  1999  ...    f  16  26   p  compact\n",
              "\n",
              "[5 rows x 12 columns]"
            ]
          },
          "metadata": {
            "tags": []
          },
          "execution_count": 98
        }
      ]
    },
    {
      "cell_type": "markdown",
      "metadata": {
        "id": "KWiFNXOa0lVE",
        "colab_type": "text"
      },
      "source": [
        "Ejercicio 1 - Parte 1"
      ]
    },
    {
      "cell_type": "code",
      "metadata": {
        "id": "XjD6fyu4zOJa",
        "colab_type": "code",
        "colab": {
          "base_uri": "https://localhost:8080/",
          "height": 295
        },
        "outputId": "7f16dff1-e81a-40f8-e259-2ebd3e8aab78"
      },
      "source": [
        "# Obtener dos columnas para graficar\n",
        "x = dfMpg.displ\n",
        "y = dfMpg.hwy\n",
        "\n",
        "plt.scatter(x,y, s = 10, alpha = 0.5, c = 'red')\n",
        "plt.title(\"Desplazamiento vs Rendimiento Autopista\")\n",
        "plt.xlabel(\"Desplazamiento (lts)\")\n",
        "plt.ylabel(\"Rendimiento autopista(mpg)\")\n",
        "\n",
        "# Guardar imagen con una resolución de 300 dpi\n",
        "plt.savefig(\"autopista.tiff\", dpi=300)\n",
        "\n"
      ],
      "execution_count": 103,
      "outputs": [
        {
          "output_type": "display_data",
          "data": {
            "image/png": "[encoded data removed]",
            "text/plain": [
              "<Figure size 432x288 with 1 Axes>"
            ]
          },
          "metadata": {
            "tags": [],
            "needs_background": "light"
          }
        }
      ]
    },
    {
      "cell_type": "markdown",
      "metadata": {
        "id": "_vGkqFzc0thE",
        "colab_type": "text"
      },
      "source": [
        "Ejercicio 1 - Parte 2"
      ]
    },
    {
      "cell_type": "code",
      "metadata": {
        "id": "jscl6VSV0yqG",
        "colab_type": "code",
        "colab": {
          "base_uri": "https://localhost:8080/",
          "height": 295
        },
        "outputId": "a991b75f-d660-4b3d-9506-fc58161d8bb2"
      },
      "source": [
        "# Obtener dos columnas para graficar\n",
        "x = dfMpg.displ\n",
        "y = dfMpg.cty\n",
        "\n",
        "plt.scatter(x,y, s = 10, alpha = 0.5, c = 'red')\n",
        "plt.title(\"Desplazamiento vs Rendimiento Ciudad\")\n",
        "plt.xlabel(\"Desplazamiento (lts)\")\n",
        "plt.ylabel(\"Rendimiento ciudad(mpg)\")\n",
        "\n",
        "# Guardar imagen con una resolución de 300 dpi\n",
        "plt.savefig(\"ciudad.tiff\", dpi=300)"
      ],
      "execution_count": 102,
      "outputs": [
        {
          "output_type": "display_data",
          "data": {
            "image/png": "[encoded data removed]",
            "text/plain": [
              "<Figure size 432x288 with 1 Axes>"
            ]
          },
          "metadata": {
            "tags": [],
            "needs_background": "light"
          }
        }
      ]
    },
    {
      "cell_type": "markdown",
      "metadata": {
        "id": "kpvLvniAyCgd",
        "colab_type": "text"
      },
      "source": [
        "### Ejercicio 2\n",
        "Emplear el dataframe **iris.csv** Está en el repositorio de GitHub:https://raw.githubusercontent.com/ulises1229/INTRO-PYTHON-ENESJ/master/data/iris.csv\n",
        "\n",
        "1. Se deberá generar un gráfico de dispersión de Longitud de pétalo vs Longitud de sepalo. Lo anterior se deberá hacer para cada especie, se deberá poner el nombre de la especie en una leyenda. "
      ]
    },
    {
      "cell_type": "code",
      "metadata": {
        "id": "kS5lHekryd7T",
        "colab_type": "code",
        "colab": {}
      },
      "source": [
        "# Código aquí"
      ],
      "execution_count": null,
      "outputs": []
    },
    {
      "cell_type": "markdown",
      "metadata": {
        "id": "1_pDzah9lIE_",
        "colab_type": "text"
      },
      "source": [
        "## 2. Gráficos de Línea# "
      ]
    },
    {
      "cell_type": "code",
      "metadata": {
        "id": "YEQ0KD1rlHjm",
        "colab_type": "code",
        "colab": {
          "base_uri": "https://localhost:8080/",
          "height": 295
        },
        "outputId": "19fc8660-e36c-4efb-8740-fd8b56dc82fe"
      },
      "source": [
        "# Importar pandas y matplotlib\n",
        "import matplotlib.pyplot as plt\n",
        "import pandas as pd\n",
        "\n",
        "# Importar data frame de temperatura\n",
        "df_temp = pd.read_csv('https://raw.githubusercontent.com/ulises1229/INTRO-PYTHON-ENESJ/master/data/temp.csv', sep =',')\n",
        "\n",
        "df_temp\n",
        "\n",
        "# Separa dos variables del dataframe\n",
        "año = df_temp.Year\n",
        "temp = df_temp.Mean\n",
        "\n",
        "# Generar el diagrama de línea\n",
        "plt.plot(año,temp)\n",
        "\n",
        "#Agregar un scatter\n",
        "plt.scatter(año, temp, s = 5, c = \"red\")\n",
        "\n",
        "# Agregar títulos\n",
        "plt.title(\"Temperatura media de la tierra 1880 - 2016\")\n",
        "plt.xlabel('Año')\n",
        "plt.ylabel('Temperatura media ºC')\n",
        "\n",
        "#Guardar el el gráfico en un archivo\n",
        "plt.savefig(\"line_temp.tiff\", dpi=300, quality = 95, bbox_inches='tight')\n",
        "\n"
      ],
      "execution_count": null,
      "outputs": [
        {
          "output_type": "display_data",
          "data": {
            "image/png": "[encoded data removed]",
            "text/plain": [
              "<Figure size 432x288 with 1 Axes>"
            ]
          },
          "metadata": {
            "tags": [],
            "needs_background": "light"
          }
        }
      ]
    },
    {
      "cell_type": "markdown",
      "metadata": {
        "id": "nYGbzUhqyxze",
        "colab_type": "text"
      },
      "source": [
        "### Ejercicio 3\n",
        "Emplear el dataframe **co2.csv** Está en el repositorio de GitHub:https://raw.githubusercontent.com/ulises1229/INTRO-PYTHON-ENESJ/master/data/co2.csv\n",
        "1. Se deberá generar un gráfico de línea con fecha vs Interpolated.\n",
        "\n",
        "2. Se deberá generar un gráfico de línea con fecha vs Trend.\n",
        "\n",
        "3. Se deberá exportar el gráfico con una calidad de 300 dpi.\n"
      ]
    },
    {
      "cell_type": "code",
      "metadata": {
        "id": "Dr7OFQfOzKIl",
        "colab_type": "code",
        "colab": {}
      },
      "source": [
        "# Código aquí"
      ],
      "execution_count": null,
      "outputs": []
    },
    {
      "cell_type": "markdown",
      "metadata": {
        "id": "bAlltkc8zhuj",
        "colab_type": "text"
      },
      "source": [
        "### 3. Gráficos de Barras"
      ]
    },
    {
      "cell_type": "code",
      "metadata": {
        "id": "5LV2Nku9zqST",
        "colab_type": "code",
        "colab": {
          "base_uri": "https://localhost:8080/",
          "height": 295
        },
        "outputId": "b8449f13-c41a-406f-e7ab-8e3ecb86532f"
      },
      "source": [
        "# Importar pandas y matplotlib\n",
        "import matplotlib.pyplot as plt\n",
        "import pandas as pd\n",
        "\n",
        "#Leer el dataframe salaries.csv\n",
        "df = pd.read_csv(\"https://raw.githubusercontent.com/ulises1229/INTRO-PYTHON-ENESJ/master/data/salaries.csv\")\n",
        "\n",
        "# Recuperar rank y salario\n",
        "rank = df['rank']\n",
        "sueldo = df.salary\n",
        "\n",
        "# Generar una gráfica de barras\n",
        "plt.bar(rank, sueldo)\n",
        "\n",
        "# Agregar títulos\n",
        "plt.title(\"Posición de en profesor en relación a su salario\")\n",
        "plt.xlabel(\"Posición\")\n",
        "plt.ylabel(\"Salario Anual (USD)\")\n",
        "\n",
        "plt.savefig(\"salario.tiff\", dpi=300, quality = 95, bbox_inches='tight')"
      ],
      "execution_count": null,
      "outputs": [
        {
          "output_type": "display_data",
          "data": {
            "image/png": "[encoded data removed]",
            "text/plain": [
              "<Figure size 432x288 with 1 Axes>"
            ]
          },
          "metadata": {
            "tags": [],
            "needs_background": "light"
          }
        }
      ]
    },
    {
      "cell_type": "markdown",
      "metadata": {
        "id": "3h5IcosC4JOj",
        "colab_type": "text"
      },
      "source": [
        "### Ejercicio 4\n",
        "Emplear el dataframe salaries.csv \n",
        "\n",
        "Está en el repositorio de GitHub\n",
        "\n",
        "1. Se deberá generar un gráfico de barras comparando el salario por sexo."
      ]
    },
    {
      "cell_type": "code",
      "metadata": {
        "id": "SUlFcwUx4IVd",
        "colab_type": "code",
        "colab": {}
      },
      "source": [
        "# Código aquí"
      ],
      "execution_count": null,
      "outputs": []
    },
    {
      "cell_type": "markdown",
      "metadata": {
        "id": "tMEiUsrB492m",
        "colab_type": "text"
      },
      "source": [
        "## 4. Box Plots"
      ]
    },
    {
      "cell_type": "code",
      "metadata": {
        "id": "XE1nx-2Z5ErB",
        "colab_type": "code",
        "colab": {
          "base_uri": "https://localhost:8080/",
          "height": 295
        },
        "outputId": "74783a72-97e0-47e5-8884-098b2ed340c3"
      },
      "source": [
        "# Importar pandas y matplotlib\n",
        "import matplotlib.pyplot as plt\n",
        "import pandas as pd\n",
        "\n",
        "# importar ma\n",
        "\n",
        "#Leer el dataframe salaries.csv\n",
        "mpg = pd.read_csv(\"https://raw.githubusercontent.com/ulises1229/INTRO-PYTHON-ENESJ/master/data/mpg.csv\")\n",
        "\n",
        "plt.boxplot(mpg.hwy)\n",
        "# Agregar títulos\n",
        "plt.title(\"Consumo en autopista de todos los automóviles\")\n",
        "plt.xlabel(\"Número de Cilindros\")\n",
        "plt.ylabel(\"Consumo en autopista (mpg)\")\n",
        "\n",
        "# exportar imágen\n",
        "plt.savefig(\"mpg.tiff\", dpi=300, quality = 95, bbox_inches='tight')"
      ],
      "execution_count": null,
      "outputs": [
        {
          "output_type": "display_data",
          "data": {
            "image/png": "[encoded data removed]",
            "text/plain": [
              "<Figure size 432x288 with 1 Axes>"
            ]
          },
          "metadata": {
            "tags": [],
            "needs_background": "light"
          }
        }
      ]
    },
    {
      "cell_type": "markdown",
      "metadata": {
        "id": "ysHVGVZtBa8D",
        "colab_type": "text"
      },
      "source": [
        "# Matemáticas Simbólicas\n",
        "+ Álgebra\n",
        "+ Cálculo\n",
        "+ Ecuaciones"
      ]
    },
    {
      "cell_type": "code",
      "metadata": {
        "id": "gGxNunL9Bv0S",
        "colab_type": "code",
        "colab": {}
      },
      "source": [
        "# Importar la librería Sympy\n",
        "from sympy import *\n",
        "\n",
        "# importar una variable simbólica (x)\n",
        "from sympy.abc import x\n",
        "\n",
        "# Habilitar impresión avanzada \n",
        "init_printing(use_latex='mathjax')\n",
        "\n",
        "# Lo anterior es equivalente a: \n",
        "x = Symbol('x') \n",
        "\n",
        "# también se puede definir como:\n",
        "x, y = symbols('x y')\n"
      ],
      "execution_count": null,
      "outputs": []
    },
    {
      "cell_type": "markdown",
      "metadata": {
        "id": "zKhqz4COHtZH",
        "colab_type": "text"
      },
      "source": [
        "#### Operaciones Básicas\n",
        " "
      ]
    },
    {
      "cell_type": "code",
      "metadata": {
        "id": "x8TxNWZ6ENVR",
        "colab_type": "code",
        "colab": {
          "base_uri": "https://localhost:8080/",
          "height": 38
        },
        "outputId": "ed63f2a3-0126-48b8-8cde-6b968e456dd4"
      },
      "source": [
        "# Definir una expresión simple\n",
        "a = 2*x**2 + y \n",
        "display(a)"
      ],
      "execution_count": null,
      "outputs": [
        {
          "output_type": "display_data",
          "data": {
            "text/latex": "$$2 x^{2} + y$$",
            "text/plain": [
              "   2    \n",
              "2⋅x  + y"
            ]
          },
          "metadata": {
            "tags": []
          }
        }
      ]
    },
    {
      "cell_type": "code",
      "metadata": {
        "id": "askGtDUqD4IQ",
        "colab_type": "code",
        "colab": {
          "base_uri": "https://localhost:8080/",
          "height": 62
        },
        "outputId": "0304c1af-86c3-410c-cce5-e96cbb0ada99"
      },
      "source": [
        "# Operaciones simples con expresiones\n",
        "display(a+y)\n",
        "display(a**2 + y**2)"
      ],
      "execution_count": null,
      "outputs": [
        {
          "output_type": "display_data",
          "data": {
            "text/latex": "$$2 x^{2} + 2 y$$",
            "text/plain": [
              "   2      \n",
              "2⋅x  + 2⋅y"
            ]
          },
          "metadata": {
            "tags": []
          }
        },
        {
          "output_type": "display_data",
          "data": {
            "text/latex": "$$y^{2} + \\left(2 x^{2} + y\\right)^{2}$$",
            "text/plain": [
              "               2\n",
              " 2   ⎛   2    ⎞ \n",
              "y  + ⎝2⋅x  + y⎠ "
            ]
          },
          "metadata": {
            "tags": []
          }
        }
      ]
    },
    {
      "cell_type": "code",
      "metadata": {
        "id": "s7UtQmzQEBCH",
        "colab_type": "code",
        "colab": {
          "base_uri": "https://localhost:8080/",
          "height": 38
        },
        "outputId": "de8b97de-07b2-42a6-9a4b-be55881f180c"
      },
      "source": [
        "# Expandir una expresión\n",
        "expand(a**3)"
      ],
      "execution_count": null,
      "outputs": [
        {
          "output_type": "execute_result",
          "data": {
            "text/latex": "$$8 x^{6} + 12 x^{4} y + 6 x^{2} y^{2} + y^{3}$$",
            "text/plain": [
              "   6       4        2  2    3\n",
              "8⋅x  + 12⋅x ⋅y + 6⋅x ⋅y  + y "
            ]
          },
          "metadata": {
            "tags": []
          },
          "execution_count": 161
        }
      ]
    },
    {
      "cell_type": "code",
      "metadata": {
        "id": "chCoYT2nFp7M",
        "colab_type": "code",
        "colab": {
          "base_uri": "https://localhost:8080/",
          "height": 39
        },
        "outputId": "c648ca19-a3e2-4194-d0ae-b6841b6cc9bc"
      },
      "source": [
        "# Factorización\n",
        "factor(x**3 + 3*x**2 +3*x + 1)"
      ],
      "execution_count": null,
      "outputs": [
        {
          "output_type": "execute_result",
          "data": {
            "text/latex": "$$\\left(x + 1\\right)^{3}$$",
            "text/plain": [
              "       3\n",
              "(x + 1) "
            ]
          },
          "metadata": {
            "tags": []
          },
          "execution_count": 171
        }
      ]
    },
    {
      "cell_type": "code",
      "metadata": {
        "id": "26q2om-8F82h",
        "colab_type": "code",
        "colab": {
          "base_uri": "https://localhost:8080/",
          "height": 133
        },
        "outputId": "73820969-5dcf-43e5-90b3-4fb907d1c3da"
      },
      "source": [
        "# Simplificación de expresiones\n",
        "# Definir dos expresiones\n",
        "exp1 = x**2 - y**2\n",
        "exp2 = (x+y)*(x-y)\n",
        "\n",
        "# \n",
        "display(\"Primer expresión: \",exp1)\n",
        "display(\"Segunda expresión: \",exp2)\n",
        "display(\"Simplificación: \", simplify(exp1 - exp2))"
      ],
      "execution_count": null,
      "outputs": [
        {
          "output_type": "display_data",
          "data": {
            "application/vnd.google.colaboratory.intrinsic+json": {
              "type": "string"
            },
            "text/plain": [
              "'Primer expresión: '"
            ]
          },
          "metadata": {
            "tags": []
          }
        },
        {
          "output_type": "display_data",
          "data": {
            "text/latex": "$$x^{2} - y^{2}$$",
            "text/plain": [
              " 2    2\n",
              "x  - y "
            ]
          },
          "metadata": {
            "tags": []
          }
        },
        {
          "output_type": "display_data",
          "data": {
            "application/vnd.google.colaboratory.intrinsic+json": {
              "type": "string"
            },
            "text/plain": [
              "'Segunda expresión: '"
            ]
          },
          "metadata": {
            "tags": []
          }
        },
        {
          "output_type": "display_data",
          "data": {
            "text/latex": "$$\\left(x - y\\right) \\left(x + y\\right)$$",
            "text/plain": [
              "(x - y)⋅(x + y)"
            ]
          },
          "metadata": {
            "tags": []
          }
        },
        {
          "output_type": "display_data",
          "data": {
            "application/vnd.google.colaboratory.intrinsic+json": {
              "type": "string"
            },
            "text/plain": [
              "'Simplificación: '"
            ]
          },
          "metadata": {
            "tags": []
          }
        },
        {
          "output_type": "display_data",
          "data": {
            "text/latex": "$$0$$",
            "text/plain": [
              "0"
            ]
          },
          "metadata": {
            "tags": []
          }
        }
      ]
    },
    {
      "cell_type": "markdown",
      "metadata": {
        "id": "EHPDnVszHz--",
        "colab_type": "text"
      },
      "source": [
        "#### Sustituciones"
      ]
    },
    {
      "cell_type": "code",
      "metadata": {
        "id": "RWOtgB0rH4s4",
        "colab_type": "code",
        "colab": {
          "base_uri": "https://localhost:8080/",
          "height": 94
        },
        "outputId": "f211cc22-6006-4bdb-bfca-c2407d7abc37"
      },
      "source": [
        "# Definir una expresión simple y realizar sustituciones\n",
        "expr = cos(x) + 1\n",
        "display(\"Primer substitución x = y\", expr.subs(x, y))\n",
        "display(\"Segunda substitución x = 0\",expr.subs(x, 0))"
      ],
      "execution_count": null,
      "outputs": [
        {
          "output_type": "display_data",
          "data": {
            "application/vnd.google.colaboratory.intrinsic+json": {
              "type": "string"
            },
            "text/plain": [
              "'Primer substitución'"
            ]
          },
          "metadata": {
            "tags": []
          }
        },
        {
          "output_type": "display_data",
          "data": {
            "text/latex": "$$\\cos{\\left (y \\right )} + 1$$",
            "text/plain": [
              "cos(y) + 1"
            ]
          },
          "metadata": {
            "tags": []
          }
        },
        {
          "output_type": "display_data",
          "data": {
            "application/vnd.google.colaboratory.intrinsic+json": {
              "type": "string"
            },
            "text/plain": [
              "'Segunda substitución'"
            ]
          },
          "metadata": {
            "tags": []
          }
        },
        {
          "output_type": "display_data",
          "data": {
            "text/latex": "$$2$$",
            "text/plain": [
              "2"
            ]
          },
          "metadata": {
            "tags": []
          }
        }
      ]
    },
    {
      "cell_type": "code",
      "metadata": {
        "id": "-gdFX8R3Img5",
        "colab_type": "code",
        "colab": {
          "base_uri": "https://localhost:8080/",
          "height": 95
        },
        "outputId": "006b5dd8-7eee-4d04-fe87-54a9063c88c7"
      },
      "source": [
        "# Continuación sustituciones\n",
        "expr = x**y\n",
        "display(\"Expresión original\", expr)\n",
        "expr = expr.subs(y, x**y)\n",
        "display(\"Después de la sustitución\", expr)"
      ],
      "execution_count": null,
      "outputs": [
        {
          "output_type": "display_data",
          "data": {
            "application/vnd.google.colaboratory.intrinsic+json": {
              "type": "string"
            },
            "text/plain": [
              "'Expresión original'"
            ]
          },
          "metadata": {
            "tags": []
          }
        },
        {
          "output_type": "display_data",
          "data": {
            "text/latex": "$$x^{y}$$",
            "text/plain": [
              " y\n",
              "x "
            ]
          },
          "metadata": {
            "tags": []
          }
        },
        {
          "output_type": "display_data",
          "data": {
            "application/vnd.google.colaboratory.intrinsic+json": {
              "type": "string"
            },
            "text/plain": [
              "'Después de la sustitución'"
            ]
          },
          "metadata": {
            "tags": []
          }
        },
        {
          "output_type": "display_data",
          "data": {
            "text/latex": "$$x^{x^{y}}$$",
            "text/plain": [
              " ⎛ y⎞\n",
              " ⎝x ⎠\n",
              "x    "
            ]
          },
          "metadata": {
            "tags": []
          }
        }
      ]
    },
    {
      "cell_type": "markdown",
      "metadata": {
        "id": "272FCz0fJrbi",
        "colab_type": "text"
      },
      "source": [
        "#### Funciones trigonométricas\n"
      ]
    },
    {
      "cell_type": "code",
      "metadata": {
        "id": "Lgb5NkuKJ1yc",
        "colab_type": "code",
        "colab": {
          "base_uri": "https://localhost:8080/",
          "height": 56
        },
        "outputId": "17557585-cb8d-4bc9-c939-7865f7627440"
      },
      "source": [
        "# Definición de una expresión trig.\n",
        "trigx = sin(2*x) + cos(2*x)\n",
        "\n",
        "# Expansión utilizando identidades\n",
        "display(\"Expansión \", expand_trig(trigx))"
      ],
      "execution_count": null,
      "outputs": [
        {
          "output_type": "display_data",
          "data": {
            "application/vnd.google.colaboratory.intrinsic+json": {
              "type": "string"
            },
            "text/plain": [
              "'Expansión '"
            ]
          },
          "metadata": {
            "tags": []
          }
        },
        {
          "output_type": "display_data",
          "data": {
            "text/latex": "$$2 \\sin{\\left (x \\right )} \\cos{\\left (x \\right )} + 2 \\cos^{2}{\\left (x \\right )} - 1$$",
            "text/plain": [
              "                       2       \n",
              "2⋅sin(x)⋅cos(x) + 2⋅cos (x) - 1"
            ]
          },
          "metadata": {
            "tags": []
          }
        }
      ]
    },
    {
      "cell_type": "code",
      "metadata": {
        "id": "Ozh4e0e7KaOA",
        "colab_type": "code",
        "colab": {
          "base_uri": "https://localhost:8080/",
          "height": 55
        },
        "outputId": "49f93824-7fe2-4db5-e248-ceb8da4098d6"
      },
      "source": [
        "# Simplificación\n",
        "display(\"Simplificación \", trigsimp(cos(x)**2 + sin(x)**2))\n"
      ],
      "execution_count": null,
      "outputs": [
        {
          "output_type": "display_data",
          "data": {
            "application/vnd.google.colaboratory.intrinsic+json": {
              "type": "string"
            },
            "text/plain": [
              "'Simplificación '"
            ]
          },
          "metadata": {
            "tags": []
          }
        },
        {
          "output_type": "display_data",
          "data": {
            "text/latex": "$$1$$",
            "text/plain": [
              "1"
            ]
          },
          "metadata": {
            "tags": []
          }
        }
      ]
    },
    {
      "cell_type": "markdown",
      "metadata": {
        "id": "04CHqmBbLX1o",
        "colab_type": "text"
      },
      "source": [
        "\n",
        "#### Symplificación y Evaluación"
      ]
    },
    {
      "cell_type": "code",
      "metadata": {
        "id": "p1g7XZRXLc42",
        "colab_type": "code",
        "colab": {
          "base_uri": "https://localhost:8080/",
          "height": 38
        },
        "outputId": "9dd790a7-ed90-4d8c-d207-a80209d80b67"
      },
      "source": [
        "simplify('x**2 + 2*x +4')\n"
      ],
      "execution_count": null,
      "outputs": [
        {
          "output_type": "execute_result",
          "data": {
            "text/latex": "$$x^{2} + 2 x + 4$$",
            "text/plain": [
              " 2          \n",
              "x  + 2⋅x + 4"
            ]
          },
          "metadata": {
            "tags": []
          },
          "execution_count": 202
        }
      ]
    },
    {
      "cell_type": "code",
      "metadata": {
        "id": "y3MQt_jgMIvv",
        "colab_type": "code",
        "colab": {
          "base_uri": "https://localhost:8080/",
          "height": 134
        },
        "outputId": "f6a3d7c2-6b70-466f-e3b8-4af01e17a995"
      },
      "source": [
        "# Definición de una expresión\n",
        "expr = sqrt(8)\n",
        "\n",
        "# imprimir la expresión\n",
        "display(expr)\n",
        "\n",
        "# Imprimir la evaluación\n",
        "display(expr.evalf())\n",
        "\n",
        "# imprimir pi y hacer su evaluación\n",
        "display(\"Símbolo \", pi)\n",
        "display(\"Evaluación \", pi.evalf(100))"
      ],
      "execution_count": null,
      "outputs": [
        {
          "output_type": "display_data",
          "data": {
            "text/latex": "$$2 \\sqrt{2}$$",
            "text/plain": [
              "2⋅√2"
            ]
          },
          "metadata": {
            "tags": []
          }
        },
        {
          "output_type": "display_data",
          "data": {
            "text/latex": "$$2.82842712474619$$",
            "text/plain": [
              "2.82842712474619"
            ]
          },
          "metadata": {
            "tags": []
          }
        },
        {
          "output_type": "display_data",
          "data": {
            "application/vnd.google.colaboratory.intrinsic+json": {
              "type": "string"
            },
            "text/plain": [
              "'Símbolo '"
            ]
          },
          "metadata": {
            "tags": []
          }
        },
        {
          "output_type": "display_data",
          "data": {
            "text/latex": "$$\\pi$$",
            "text/plain": [
              "π"
            ]
          },
          "metadata": {
            "tags": []
          }
        },
        {
          "output_type": "display_data",
          "data": {
            "application/vnd.google.colaboratory.intrinsic+json": {
              "type": "string"
            },
            "text/plain": [
              "'Evaluación '"
            ]
          },
          "metadata": {
            "tags": []
          }
        },
        {
          "output_type": "display_data",
          "data": {
            "text/latex": "$$3.141592653589793238462643383279502884197169399375105820974944592307816406286208998628034825342117068$$",
            "text/plain": [
              "3.1415926535897932384626433832795028841971693993751058209749445923078164062862\n",
              "08998628034825342117068"
            ]
          },
          "metadata": {
            "tags": []
          }
        }
      ]
    },
    {
      "cell_type": "code",
      "metadata": {
        "id": "JhaiG9ZHI_wu",
        "colab_type": "code",
        "colab": {
          "base_uri": "https://localhost:8080/",
          "height": 256
        },
        "outputId": "45a641e9-86c2-4f4a-b905-bd35826ee740"
      },
      "source": [
        " # Más simplificaciones\n",
        "display(\"\",simplify((x**3 + x**2 -x -1)/(x**2 +2*x +1)))\n",
        "display(\"\",simplify((x**4 - 1)/(x - 1)))\n",
        "display(\"\",simplify((x**4 - 1)/(x**2 - 1)))\n",
        "display(\"\",expand((x+2*y)**3))\n",
        "display(\"\",cancel((x**4 - 1)/(x - 1)))\n",
        "display(\"\",cancel((x**2 + 2* x + 1)/(x**2 - 1)))\n"
      ],
      "execution_count": null,
      "outputs": [
        {
          "output_type": "display_data",
          "data": {
            "application/vnd.google.colaboratory.intrinsic+json": {
              "type": "string"
            },
            "text/plain": [
              "''"
            ]
          },
          "metadata": {
            "tags": []
          }
        },
        {
          "output_type": "display_data",
          "data": {
            "text/latex": "$$x - 1$$",
            "text/plain": [
              "x - 1"
            ]
          },
          "metadata": {
            "tags": []
          }
        },
        {
          "output_type": "display_data",
          "data": {
            "application/vnd.google.colaboratory.intrinsic+json": {
              "type": "string"
            },
            "text/plain": [
              "''"
            ]
          },
          "metadata": {
            "tags": []
          }
        },
        {
          "output_type": "display_data",
          "data": {
            "text/latex": "$$\\frac{x^{4} - 1}{x - 1}$$",
            "text/plain": [
              " 4    \n",
              "x  - 1\n",
              "──────\n",
              "x - 1 "
            ]
          },
          "metadata": {
            "tags": []
          }
        },
        {
          "output_type": "display_data",
          "data": {
            "application/vnd.google.colaboratory.intrinsic+json": {
              "type": "string"
            },
            "text/plain": [
              "''"
            ]
          },
          "metadata": {
            "tags": []
          }
        },
        {
          "output_type": "display_data",
          "data": {
            "text/latex": "$$x^{2} + 1$$",
            "text/plain": [
              " 2    \n",
              "x  + 1"
            ]
          },
          "metadata": {
            "tags": []
          }
        },
        {
          "output_type": "display_data",
          "data": {
            "application/vnd.google.colaboratory.intrinsic+json": {
              "type": "string"
            },
            "text/plain": [
              "''"
            ]
          },
          "metadata": {
            "tags": []
          }
        },
        {
          "output_type": "display_data",
          "data": {
            "text/latex": "$$x^{3} + 6 x^{2} y + 12 x y^{2} + 8 y^{3}$$",
            "text/plain": [
              " 3      2           2      3\n",
              "x  + 6⋅x ⋅y + 12⋅x⋅y  + 8⋅y "
            ]
          },
          "metadata": {
            "tags": []
          }
        },
        {
          "output_type": "display_data",
          "data": {
            "application/vnd.google.colaboratory.intrinsic+json": {
              "type": "string"
            },
            "text/plain": [
              "''"
            ]
          },
          "metadata": {
            "tags": []
          }
        },
        {
          "output_type": "display_data",
          "data": {
            "text/latex": "$$x^{3} + x^{2} + x + 1$$",
            "text/plain": [
              " 3    2        \n",
              "x  + x  + x + 1"
            ]
          },
          "metadata": {
            "tags": []
          }
        },
        {
          "output_type": "display_data",
          "data": {
            "application/vnd.google.colaboratory.intrinsic+json": {
              "type": "string"
            },
            "text/plain": [
              "''"
            ]
          },
          "metadata": {
            "tags": []
          }
        },
        {
          "output_type": "display_data",
          "data": {
            "text/latex": "$$\\frac{x + 1}{x - 1}$$",
            "text/plain": [
              "x + 1\n",
              "─────\n",
              "x - 1"
            ]
          },
          "metadata": {
            "tags": []
          }
        }
      ]
    },
    {
      "cell_type": "markdown",
      "metadata": {
        "id": "mkBDCIbOKVa2",
        "colab_type": "text"
      },
      "source": [
        "# Potenciación"
      ]
    },
    {
      "cell_type": "code",
      "metadata": {
        "id": "eTVn6BoXKbWA",
        "colab_type": "code",
        "colab": {
          "base_uri": "https://localhost:8080/",
          "height": 59
        },
        "outputId": "d64bdbf3-db25-46a7-f420-35197ff40f99"
      },
      "source": [
        "# Diferencia entre ambas potenciaciones\n",
        "xp,yp = symbols('x y',positive=True)\n",
        "a,b = symbols('a b', real=True)\n",
        "display(powsimp(x**a * y**a))\n",
        "display(powsimp(xp**a * yp**a))\n"
      ],
      "execution_count": null,
      "outputs": [
        {
          "output_type": "display_data",
          "data": {
            "text/latex": "$$x^{a} y^{a}$$",
            "text/plain": [
              " a  a\n",
              "x ⋅y "
            ]
          },
          "metadata": {
            "tags": []
          }
        },
        {
          "output_type": "display_data",
          "data": {
            "text/latex": "$$\\left(x y\\right)^{a}$$",
            "text/plain": [
              "     a\n",
              "(x⋅y) "
            ]
          },
          "metadata": {
            "tags": []
          }
        }
      ]
    },
    {
      "cell_type": "markdown",
      "metadata": {
        "id": "aLXVlqCfLT0v",
        "colab_type": "text"
      },
      "source": [
        "Exponenciales y logaritmos\n"
      ]
    },
    {
      "cell_type": "code",
      "metadata": {
        "id": "E7Qd8udILfLI",
        "colab_type": "code",
        "colab": {
          "base_uri": "https://localhost:8080/",
          "height": 222
        },
        "outputId": "72f7c95d-37ef-487d-9565-a34c7c423a74"
      },
      "source": [
        "# Definición de un nuevo símbolo\n",
        "n = Symbol('n')\n",
        "\n",
        "# Logaritmos\n",
        "display('',ln(x))\n",
        "display('',expand_log(log(x*y)))\n",
        "display('',expand_log(log(x/y)))\n",
        "display('',expand_log(log(x**2)))\n",
        "display('',expand_log(log(x**n)))\n"
      ],
      "execution_count": null,
      "outputs": [
        {
          "output_type": "display_data",
          "data": {
            "application/vnd.google.colaboratory.intrinsic+json": {
              "type": "string"
            },
            "text/plain": [
              "''"
            ]
          },
          "metadata": {
            "tags": []
          }
        },
        {
          "output_type": "display_data",
          "data": {
            "text/latex": "$$\\log{\\left (x \\right )}$$",
            "text/plain": [
              "log(x)"
            ]
          },
          "metadata": {
            "tags": []
          }
        },
        {
          "output_type": "display_data",
          "data": {
            "application/vnd.google.colaboratory.intrinsic+json": {
              "type": "string"
            },
            "text/plain": [
              "''"
            ]
          },
          "metadata": {
            "tags": []
          }
        },
        {
          "output_type": "display_data",
          "data": {
            "text/latex": "$$\\log{\\left (x y \\right )}$$",
            "text/plain": [
              "log(x⋅y)"
            ]
          },
          "metadata": {
            "tags": []
          }
        },
        {
          "output_type": "display_data",
          "data": {
            "application/vnd.google.colaboratory.intrinsic+json": {
              "type": "string"
            },
            "text/plain": [
              "''"
            ]
          },
          "metadata": {
            "tags": []
          }
        },
        {
          "output_type": "display_data",
          "data": {
            "text/latex": "$$\\log{\\left (\\frac{x}{y} \\right )}$$",
            "text/plain": [
              "   ⎛x⎞\n",
              "log⎜─⎟\n",
              "   ⎝y⎠"
            ]
          },
          "metadata": {
            "tags": []
          }
        },
        {
          "output_type": "display_data",
          "data": {
            "application/vnd.google.colaboratory.intrinsic+json": {
              "type": "string"
            },
            "text/plain": [
              "''"
            ]
          },
          "metadata": {
            "tags": []
          }
        },
        {
          "output_type": "display_data",
          "data": {
            "text/latex": "$$\\log{\\left (x^{2} \\right )}$$",
            "text/plain": [
              "   ⎛ 2⎞\n",
              "log⎝x ⎠"
            ]
          },
          "metadata": {
            "tags": []
          }
        },
        {
          "output_type": "display_data",
          "data": {
            "application/vnd.google.colaboratory.intrinsic+json": {
              "type": "string"
            },
            "text/plain": [
              "''"
            ]
          },
          "metadata": {
            "tags": []
          }
        },
        {
          "output_type": "display_data",
          "data": {
            "text/latex": "$$\\log{\\left (x^{n} \\right )}$$",
            "text/plain": [
              "   ⎛ n⎞\n",
              "log⎝x ⎠"
            ]
          },
          "metadata": {
            "tags": []
          }
        }
      ]
    },
    {
      "cell_type": "markdown",
      "metadata": {
        "id": "gjGTEG98M6F6",
        "colab_type": "text"
      },
      "source": [
        "### Calclulo\n",
        "+ Diferenciación\n",
        "+ Derivación \n",
        "+ Límites"
      ]
    },
    {
      "cell_type": "code",
      "metadata": {
        "id": "2t01XVjFM_7r",
        "colab_type": "code",
        "colab": {
          "base_uri": "https://localhost:8080/",
          "height": 134
        },
        "outputId": "283ffc9e-6c4a-4fc8-d880-aa7370141dbb"
      },
      "source": [
        "#Diferenciación\n",
        "# definiendo una función\n",
        "f = x**3 + 2*x**2 + 3*x + 5 \n",
        "display(\"Función: \" ,f)\n",
        "\n",
        "# Calculando primer derivada\n",
        "derivada1 = diff(f, x)\n",
        "display(\"1er Derivada: \", derivada1)\n",
        "\n",
        "# Calculando segunda derivada\n",
        "derivada2 = diff(derivada1, x)\n",
        "display(\"2da Derivada: \", derivada2)"
      ],
      "execution_count": null,
      "outputs": [
        {
          "output_type": "display_data",
          "data": {
            "application/vnd.google.colaboratory.intrinsic+json": {
              "type": "string"
            },
            "text/plain": [
              "'Función: '"
            ]
          },
          "metadata": {
            "tags": []
          }
        },
        {
          "output_type": "display_data",
          "data": {
            "text/latex": "$$x^{3} + 2 x^{2} + 3 x + 5$$",
            "text/plain": [
              " 3      2          \n",
              "x  + 2⋅x  + 3⋅x + 5"
            ]
          },
          "metadata": {
            "tags": []
          }
        },
        {
          "output_type": "display_data",
          "data": {
            "application/vnd.google.colaboratory.intrinsic+json": {
              "type": "string"
            },
            "text/plain": [
              "'1er Derivada: '"
            ]
          },
          "metadata": {
            "tags": []
          }
        },
        {
          "output_type": "display_data",
          "data": {
            "text/latex": "$$3 x^{2} + 4 x + 3$$",
            "text/plain": [
              "   2          \n",
              "3⋅x  + 4⋅x + 3"
            ]
          },
          "metadata": {
            "tags": []
          }
        },
        {
          "output_type": "display_data",
          "data": {
            "application/vnd.google.colaboratory.intrinsic+json": {
              "type": "string"
            },
            "text/plain": [
              "'2da Derivada: '"
            ]
          },
          "metadata": {
            "tags": []
          }
        },
        {
          "output_type": "display_data",
          "data": {
            "text/latex": "$$6 x + 4$$",
            "text/plain": [
              "6⋅x + 4"
            ]
          },
          "metadata": {
            "tags": []
          }
        }
      ]
    },
    {
      "cell_type": "code",
      "metadata": {
        "id": "rTooyTZBOHTL",
        "colab_type": "code",
        "colab": {
          "base_uri": "https://localhost:8080/",
          "height": 98
        },
        "outputId": "16a951b3-e8c8-445e-98ca-d6f457ecb42b"
      },
      "source": [
        "#Integración\n",
        "# definiendo una función\n",
        "f = x**3 + 2*x**2 + 3*x + 5 \n",
        "display(\"Función: \" ,f)\n",
        "\n",
        "# Intervalos de evaluación\n",
        "a = 1\n",
        "b = 5\n",
        "\n",
        "# Imprimir la integral\n",
        "display(\"\",Integral(f,(x,a,b)))\n",
        "\n",
        "# Imprimir la evaluación\n",
        "display(\"\",integrate(f,(x,a,b)))"
      ],
      "execution_count": null,
      "outputs": [
        {
          "output_type": "display_data",
          "data": {
            "application/vnd.google.colaboratory.intrinsic+json": {
              "type": "string"
            },
            "text/plain": [
              "''"
            ]
          },
          "metadata": {
            "tags": []
          }
        },
        {
          "output_type": "display_data",
          "data": {
            "text/latex": "$$\\int_{1}^{5} \\left(x^{3} + 2 x^{2} + 3 x + 5\\right)\\, dx$$",
            "text/plain": [
              "5                         \n",
              "⌠                         \n",
              "⎮ ⎛ 3      2          ⎞   \n",
              "⎮ ⎝x  + 2⋅x  + 3⋅x + 5⎠ dx\n",
              "⌡                         \n",
              "1                         "
            ]
          },
          "metadata": {
            "tags": []
          }
        },
        {
          "output_type": "display_data",
          "data": {
            "application/vnd.google.colaboratory.intrinsic+json": {
              "type": "string"
            },
            "text/plain": [
              "''"
            ]
          },
          "metadata": {
            "tags": []
          }
        },
        {
          "output_type": "display_data",
          "data": {
            "text/latex": "$$\\frac{884}{3}$$",
            "text/plain": [
              "884/3"
            ]
          },
          "metadata": {
            "tags": []
          }
        }
      ]
    },
    {
      "cell_type": "code",
      "metadata": {
        "id": "fe8C7wMLPI_U",
        "colab_type": "code",
        "colab": {
          "base_uri": "https://localhost:8080/",
          "height": 94
        },
        "outputId": "1db63f39-43c7-4c8d-b678-00dbd856eb40"
      },
      "source": [
        "# Límites\n",
        "# definiendo una función\n",
        "f = x**3 + 2*x**2 + 3*x + 5 \n",
        "display(\"Función: \" ,f)\n",
        "\n",
        "# Evaluación del límite cuando x –> inf\n",
        "display(\"Límite\", limit(f, x, oo))"
      ],
      "execution_count": null,
      "outputs": [
        {
          "output_type": "display_data",
          "data": {
            "application/vnd.google.colaboratory.intrinsic+json": {
              "type": "string"
            },
            "text/plain": [
              "'Función: '"
            ]
          },
          "metadata": {
            "tags": []
          }
        },
        {
          "output_type": "display_data",
          "data": {
            "text/latex": "$$x^{3} + 2 x^{2} + 3 x + 5$$",
            "text/plain": [
              " 3      2          \n",
              "x  + 2⋅x  + 3⋅x + 5"
            ]
          },
          "metadata": {
            "tags": []
          }
        },
        {
          "output_type": "display_data",
          "data": {
            "application/vnd.google.colaboratory.intrinsic+json": {
              "type": "string"
            },
            "text/plain": [
              "'Límite'"
            ]
          },
          "metadata": {
            "tags": []
          }
        },
        {
          "output_type": "display_data",
          "data": {
            "text/latex": "$$27$$",
            "text/plain": [
              "27"
            ]
          },
          "metadata": {
            "tags": []
          }
        }
      ]
    },
    {
      "cell_type": "code",
      "metadata": {
        "id": "2OvaCpimQdfP",
        "colab_type": "code",
        "colab": {
          "base_uri": "https://localhost:8080/",
          "height": 93
        },
        "outputId": "9735efcc-ecdd-4cdb-ab8b-a082595b6ab7"
      },
      "source": [
        "# Ecuaciones\n",
        "# definiendo una ecuación x**3 + 2*x**2 + 3*x + 5 = 0\n",
        "f = x + 2 \n",
        "\n",
        "display(\"Resolver eccuación \", solve(f, x))\n",
        "\n",
        "display(\"Raices de un polinomio\", roots(x**3 - 6*x**2 + 9*x,x))"
      ],
      "execution_count": null,
      "outputs": [
        {
          "output_type": "display_data",
          "data": {
            "application/vnd.google.colaboratory.intrinsic+json": {
              "type": "string"
            },
            "text/plain": [
              "'Resolver eccuación '"
            ]
          },
          "metadata": {
            "tags": []
          }
        },
        {
          "output_type": "display_data",
          "data": {
            "text/latex": "$$\\left [ -2\\right ]$$",
            "text/plain": [
              "[-2]"
            ]
          },
          "metadata": {
            "tags": []
          }
        },
        {
          "output_type": "display_data",
          "data": {
            "application/vnd.google.colaboratory.intrinsic+json": {
              "type": "string"
            },
            "text/plain": [
              "'Raices de un polinomio'"
            ]
          },
          "metadata": {
            "tags": []
          }
        },
        {
          "output_type": "display_data",
          "data": {
            "text/latex": "$$\\left \\{ 0 : 1, \\quad 3 : 2\\right \\}$$",
            "text/plain": [
              "{0: 1, 3: 2}"
            ]
          },
          "metadata": {
            "tags": []
          }
        }
      ]
    },
    {
      "cell_type": "code",
      "metadata": {
        "id": "G7kqoAwtWSIY",
        "colab_type": "code",
        "colab": {
          "base_uri": "https://localhost:8080/",
          "height": 51
        },
        "outputId": "6a5ccf12-4a15-4a8a-af0d-49993a9cf2f7"
      },
      "source": [
        "def test():\n",
        "  # variable global\n",
        "  global a\n",
        "  a = 2\n",
        "  print(a)\n",
        "\n",
        "def test2():\n",
        "  print(a)\n",
        "\n",
        "test()\n",
        "test2()"
      ],
      "execution_count": null,
      "outputs": [
        {
          "output_type": "stream",
          "text": [
            "2\n",
            "2\n"
          ],
          "name": "stdout"
        }
      ]
    }
  ]
}