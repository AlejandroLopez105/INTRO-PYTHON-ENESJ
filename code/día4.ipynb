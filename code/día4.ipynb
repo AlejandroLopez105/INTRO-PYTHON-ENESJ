{
  "nbformat": 4,
  "nbformat_minor": 0,
  "metadata": {
    "colab": {
      "name": "Día4.ipynb",
      "provenance": [],
      "collapsed_sections": [],
      "include_colab_link": true
    },
    "kernelspec": {
      "name": "python3",
      "display_name": "Python 3"
    }
  },
  "cells": [
    {
      "cell_type": "markdown",
      "metadata": {
        "id": "view-in-github",
        "colab_type": "text"
      },
      "source": [
        "<a href=\"https://colab.research.google.com/github/ulises1229/INTRO-PYTHON-ENESJ/blob/master/code/d%C3%ADa4.ipynb\" target=\"_parent\"><img src=\"https://colab.research.google.com/assets/colab-badge.svg\" alt=\"Open In Colab\"/></a>"
      ]
    },
    {
      "cell_type": "markdown",
      "metadata": {
        "id": "ilQAOcHY8uHR",
        "colab_type": "text"
      },
      "source": [
        "## Día4 - Visualización de datos y Matemáticas Simbólicas\n",
        "+ Autor: Ulises Olivares\n",
        "+ uolivares@unam.mx\n",
        "+ 03 de septiembre de **2020**"
      ]
    },
    {
      "cell_type": "code",
      "metadata": {
        "id": "4wY5yUFr80Gy",
        "colab_type": "code",
        "colab": {
          "base_uri": "https://localhost:8080/",
          "height": 203
        },
        "outputId": "51f91fc3-f5ea-4c1f-baf0-cd266e9d5a53"
      },
      "source": [
        "# importar la librería de pandas como pd\n",
        "import pandas as pd\n",
        "\n",
        "#Leer el dataframe salaries.csv\n",
        "df = pd.read_csv(\"https://raw.githubusercontent.com/ulises1229/INTRO-PYTHON-ENESJ/master/data/salaries.csv\")\n",
        "df.head()"
      ],
      "execution_count": 3,
      "outputs": [
        {
          "output_type": "execute_result",
          "data": {
            "text/html": [
              "<div>\n",
              "<style scoped>\n",
              "    .dataframe tbody tr th:only-of-type {\n",
              "        vertical-align: middle;\n",
              "    }\n",
              "\n",
              "    .dataframe tbody tr th {\n",
              "        vertical-align: top;\n",
              "    }\n",
              "\n",
              "    .dataframe thead th {\n",
              "        text-align: right;\n",
              "    }\n",
              "</style>\n",
              "<table border=\"1\" class=\"dataframe\">\n",
              "  <thead>\n",
              "    <tr style=\"text-align: right;\">\n",
              "      <th></th>\n",
              "      <th>rank</th>\n",
              "      <th>discipline</th>\n",
              "      <th>phd</th>\n",
              "      <th>service</th>\n",
              "      <th>sex</th>\n",
              "      <th>salary</th>\n",
              "    </tr>\n",
              "  </thead>\n",
              "  <tbody>\n",
              "    <tr>\n",
              "      <th>0</th>\n",
              "      <td>Prof</td>\n",
              "      <td>B</td>\n",
              "      <td>56</td>\n",
              "      <td>49</td>\n",
              "      <td>Male</td>\n",
              "      <td>186960</td>\n",
              "    </tr>\n",
              "    <tr>\n",
              "      <th>1</th>\n",
              "      <td>Prof</td>\n",
              "      <td>A</td>\n",
              "      <td>12</td>\n",
              "      <td>6</td>\n",
              "      <td>Male</td>\n",
              "      <td>93000</td>\n",
              "    </tr>\n",
              "    <tr>\n",
              "      <th>2</th>\n",
              "      <td>Prof</td>\n",
              "      <td>A</td>\n",
              "      <td>23</td>\n",
              "      <td>20</td>\n",
              "      <td>Male</td>\n",
              "      <td>110515</td>\n",
              "    </tr>\n",
              "    <tr>\n",
              "      <th>3</th>\n",
              "      <td>Prof</td>\n",
              "      <td>A</td>\n",
              "      <td>40</td>\n",
              "      <td>31</td>\n",
              "      <td>Male</td>\n",
              "      <td>131205</td>\n",
              "    </tr>\n",
              "    <tr>\n",
              "      <th>4</th>\n",
              "      <td>Prof</td>\n",
              "      <td>B</td>\n",
              "      <td>20</td>\n",
              "      <td>18</td>\n",
              "      <td>Male</td>\n",
              "      <td>104800</td>\n",
              "    </tr>\n",
              "  </tbody>\n",
              "</table>\n",
              "</div>"
            ],
            "text/plain": [
              "   rank discipline  phd  service   sex  salary\n",
              "0  Prof          B   56       49  Male  186960\n",
              "1  Prof          A   12        6  Male   93000\n",
              "2  Prof          A   23       20  Male  110515\n",
              "3  Prof          A   40       31  Male  131205\n",
              "4  Prof          B   20       18  Male  104800"
            ]
          },
          "metadata": {
            "tags": []
          },
          "execution_count": 3
        }
      ]
    },
    {
      "cell_type": "markdown",
      "metadata": {
        "id": "h0FyY51mKvHR",
        "colab_type": "text"
      },
      "source": [
        "##1. Gráficos de dispersión (Scatter)"
      ]
    },
    {
      "cell_type": "code",
      "metadata": {
        "id": "Mg6DF7HC-NMx",
        "colab_type": "code",
        "colab": {
          "base_uri": "https://localhost:8080/",
          "height": 295
        },
        "outputId": "0bad3d40-8ae2-41c8-f478-a37511c7a78f"
      },
      "source": [
        "# Importar librería Matplotlib\n",
        "import matplotlib.pyplot as plt\n",
        "\n",
        "# Almacenar variables x = años servicio y y = salario\n",
        "x = df.service\n",
        "y = df.salary\n",
        "\n",
        "# Generar diagrama de dispersión\n",
        "plt.scatter(x, y)\n",
        "\n",
        "# Títulos: gráfico y ejes \n",
        "plt.title(\"Gráfico de Dispersión Años de servicio vs Salario\")\n",
        "plt.xlabel('Años de servicio')\n",
        "plt.ylabel('Salario Anual')\n",
        "\n",
        "# Desplegar imagen en pantalla\n",
        "plt.show()"
      ],
      "execution_count": 19,
      "outputs": [
        {
          "output_type": "display_data",
          "data": {
            "image/png": "[encoded data removed]",
            "text/plain": [
              "<Figure size 432x288 with 1 Axes>"
            ]
          },
          "metadata": {
            "tags": [],
            "needs_background": "light"
          }
        }
      ]
    },
    {
      "cell_type": "markdown",
      "metadata": {
        "id": "pZtLeDVwZC2t",
        "colab_type": "text"
      },
      "source": [
        "### Añadir Colores y modificar el tamaño del gráfico"
      ]
    },
    {
      "cell_type": "code",
      "metadata": {
        "id": "w7YDLdjiYKSs",
        "colab_type": "code",
        "colab": {
          "base_uri": "https://localhost:8080/",
          "height": 295
        },
        "outputId": "d8697118-c57c-468c-fb44-c53be4b97101"
      },
      "source": [
        "# Importar librería de numpy\n",
        "import numpy as np\n",
        "\n",
        "# Almacenar variables x = años servicio y y = salario\n",
        "x = df.service\n",
        "y = df.salary\n",
        "lab = ['Male', 'Female']\n",
        "\n",
        "# Arreglo de colores\n",
        "colores = np.arange(len(x))\n",
        "\n",
        "# Títulos: gráfico y ejes \n",
        "plt.title(\"Gráfico de Dispersión Años de servicio vs Salario\")\n",
        "plt.xlabel('Años de servicio')\n",
        "plt.ylabel('Salario Anual')\n",
        "\n",
        "# Agregar un scatter con colores y transparencia\n",
        "plt.scatter(x, y, c=colores, alpha = 0.5, s = (y*0.002))\n",
        "\n",
        "plt.show()\n",
        "#plt.savefig(\"dispersión.tiff\", dpi=300, quality = 95, bbox_inches='tight')"
      ],
      "execution_count": 77,
      "outputs": [
        {
          "output_type": "display_data",
          "data": {
            "image/png": "[encoded data removed]",
            "text/plain": [
              "<Figure size 432x288 with 1 Axes>"
            ]
          },
          "metadata": {
            "tags": [],
            "needs_background": "light"
          }
        }
      ]
    },
    {
      "cell_type": "markdown",
      "metadata": {
        "id": "-IozdV_DfSoT",
        "colab_type": "text"
      },
      "source": [
        "### Agregar una leyenda a los datos"
      ]
    },
    {
      "cell_type": "code",
      "metadata": {
        "id": "AvCdA-lEfWMp",
        "colab_type": "code",
        "colab": {
          "base_uri": "https://localhost:8080/",
          "height": 295
        },
        "outputId": "e36ea7d7-843e-4317-f1fe-05aa28349217"
      },
      "source": [
        "# Almacenar variables x = años servicio y y = salario\n",
        "x = df.service\n",
        "y = df.salary\n",
        "lab = ['Male', 'Female']\n",
        "\n",
        "# Arreglo de colores\n",
        "colores = np.arange(len(x))\n",
        "\n",
        "# Títulos: gráfico y ejes \n",
        "plt.title(\"Gráfico de Dispersión Años de servicio vs Salario\")\n",
        "plt.xlabel('Años de servicio')\n",
        "plt.ylabel('Salario Anual')\n",
        "\n",
        "# Agregar un scatter con colores, transparencia y leyenda\n",
        "plt.scatter(x, y, c=colores, alpha = 0.5, s = (y*0.002), label = \"datos\")\n",
        "plt.legend(loc='best')\n",
        "\n",
        "#plt.show()\n",
        "plt.savefig(\"dispersión.tiff\", dpi=300, quality = 95, bbox_inches='tight')"
      ],
      "execution_count": 83,
      "outputs": [
        {
          "output_type": "display_data",
          "data": {
            "image/png": "[encoded data removed]",
            "text/plain": [
              "<Figure size 432x288 with 1 Axes>"
            ]
          },
          "metadata": {
            "tags": [],
            "needs_background": "light"
          }
        }
      ]
    },
    {
      "cell_type": "markdown",
      "metadata": {
        "id": "7xqYYS_CihOi",
        "colab_type": "text"
      },
      "source": [
        "### Exportando un gráfico"
      ]
    },
    {
      "cell_type": "code",
      "metadata": {
        "id": "p6ui5FvWX787",
        "colab_type": "code",
        "colab": {}
      },
      "source": [
        "# guarda la imagen en un archivo\n",
        "plt.savefig(\"dispersión.tiff\", dpi=300, quality = 95, bbox_inches='tight')"
      ],
      "execution_count": null,
      "outputs": []
    },
    {
      "cell_type": "markdown",
      "metadata": {
        "id": "5QcndDlEiopV",
        "colab_type": "text"
      },
      "source": [
        "### Ejercicio 1\n",
        "\n",
        "\n",
        "Emplear el dataframe **mpg.csv** Está en el repositorio de GitHub: https://raw.githubusercontent.com/ulises1229/INTRO-PYTHON-ENESJ/master/data/mpg.csv\n",
        "\n",
        "1. Se deberá generar un gráfico de dispersión del desplazamiento del motor vs rendimiento en autopista.\n",
        "\n",
        "2. Se deberá generar un segundo gráfico de desplazamiento del motor vs rendimiento en ciudad.\n",
        "\n",
        "3. Exportar un gráfico con una resolución de 300 dpi"
      ]
    },
    {
      "cell_type": "code",
      "metadata": {
        "id": "rWkuIcZ9isGT",
        "colab_type": "code",
        "colab": {}
      },
      "source": [
        "# Código aquí"
      ],
      "execution_count": null,
      "outputs": []
    },
    {
      "cell_type": "markdown",
      "metadata": {
        "id": "kpvLvniAyCgd",
        "colab_type": "text"
      },
      "source": [
        "### Ejercicio 2\n",
        "Emplear el dataframe **iris.csv** Está en el repositorio de GitHub:https://raw.githubusercontent.com/ulises1229/INTRO-PYTHON-ENESJ/master/data/iris.csv\n",
        "\n",
        "1. Se deberá generar un gráfico de dispersión de Longitud de pétalo vs Longitud de sepalo. Lo anterior se deberá hacer para cada especie, se deberá poner el nombre de la especie en una leyenda. "
      ]
    },
    {
      "cell_type": "code",
      "metadata": {
        "id": "kS5lHekryd7T",
        "colab_type": "code",
        "colab": {}
      },
      "source": [
        "# Código aquí"
      ],
      "execution_count": null,
      "outputs": []
    },
    {
      "cell_type": "markdown",
      "metadata": {
        "id": "1_pDzah9lIE_",
        "colab_type": "text"
      },
      "source": [
        "## 2. Gráficos de Línea# "
      ]
    },
    {
      "cell_type": "code",
      "metadata": {
        "id": "YEQ0KD1rlHjm",
        "colab_type": "code",
        "colab": {
          "base_uri": "https://localhost:8080/",
          "height": 295
        },
        "outputId": "19fc8660-e36c-4efb-8740-fd8b56dc82fe"
      },
      "source": [
        "# Importar pandas y matplotlib\n",
        "import matplotlib.pyplot as plt\n",
        "import pandas as pd\n",
        "\n",
        "# Importar data frame de temperatura\n",
        "df_temp = pd.read_csv('https://raw.githubusercontent.com/ulises1229/INTRO-PYTHON-ENESJ/master/data/temp.csv', sep =',')\n",
        "\n",
        "df_temp\n",
        "\n",
        "# Separa dos variables del dataframe\n",
        "año = df_temp.Year\n",
        "temp = df_temp.Mean\n",
        "\n",
        "# Generar el diagrama de línea\n",
        "plt.plot(año,temp)\n",
        "\n",
        "#Agregar un scatter\n",
        "plt.scatter(año, temp, s = 5, c = \"red\")\n",
        "\n",
        "# Agregar títulos\n",
        "plt.title(\"Temperatura media de la tierra 1880 - 2016\")\n",
        "plt.xlabel('Año')\n",
        "plt.ylabel('Temperatura media ºC')\n",
        "\n",
        "#Guardar el el gráfico en un archivo\n",
        "plt.savefig(\"line_temp.tiff\", dpi=300, quality = 95, bbox_inches='tight')\n",
        "\n"
      ],
      "execution_count": 97,
      "outputs": [
        {
          "output_type": "display_data",
          "data": {
            "image/png": "[encoded data removed]",
            "text/plain": [
              "<Figure size 432x288 with 1 Axes>"
            ]
          },
          "metadata": {
            "tags": [],
            "needs_background": "light"
          }
        }
      ]
    },
    {
      "cell_type": "markdown",
      "metadata": {
        "id": "nYGbzUhqyxze",
        "colab_type": "text"
      },
      "source": [
        "### Ejercicio 3\n",
        "Emplear el dataframe **co2.csv** Está en el repositorio de GitHub:https://raw.githubusercontent.com/ulises1229/INTRO-PYTHON-ENESJ/master/data/co2.csv\n",
        "1. Se deberá generar un gráfico de línea con fecha vs Interpolated.\n",
        "\n",
        "2. Se deberá generar un gráfico de línea con fecha vs Trend.\n",
        "\n",
        "3. Se deberá exportar el gráfico con una calidad de 300 dpi.\n"
      ]
    },
    {
      "cell_type": "code",
      "metadata": {
        "id": "Dr7OFQfOzKIl",
        "colab_type": "code",
        "colab": {}
      },
      "source": [
        "# Código aquí"
      ],
      "execution_count": null,
      "outputs": []
    },
    {
      "cell_type": "markdown",
      "metadata": {
        "id": "bAlltkc8zhuj",
        "colab_type": "text"
      },
      "source": [
        "### 3. Gráficos de Barras"
      ]
    },
    {
      "cell_type": "code",
      "metadata": {
        "id": "5LV2Nku9zqST",
        "colab_type": "code",
        "colab": {
          "base_uri": "https://localhost:8080/",
          "height": 295
        },
        "outputId": "b8449f13-c41a-406f-e7ab-8e3ecb86532f"
      },
      "source": [
        "# Importar pandas y matplotlib\n",
        "import matplotlib.pyplot as plt\n",
        "import pandas as pd\n",
        "\n",
        "#Leer el dataframe salaries.csv\n",
        "df = pd.read_csv(\"https://raw.githubusercontent.com/ulises1229/INTRO-PYTHON-ENESJ/master/data/salaries.csv\")\n",
        "\n",
        "# Recuperar rank y salario\n",
        "rank = df['rank']\n",
        "sueldo = df.salary\n",
        "\n",
        "# Generar una gráfica de barras\n",
        "plt.bar(rank, sueldo)\n",
        "\n",
        "# Agregar títulos\n",
        "plt.title(\"Posición de en profesor en relación a su salario\")\n",
        "plt.xlabel(\"Posición\")\n",
        "plt.ylabel(\"Salario Anual (USD)\")\n",
        "\n",
        "plt.savefig(\"salario.tiff\", dpi=300, quality = 95, bbox_inches='tight')"
      ],
      "execution_count": 108,
      "outputs": [
        {
          "output_type": "display_data",
          "data": {
            "image/png": "[encoded data removed]",
            "text/plain": [
              "<Figure size 432x288 with 1 Axes>"
            ]
          },
          "metadata": {
            "tags": [],
            "needs_background": "light"
          }
        }
      ]
    },
    {
      "cell_type": "markdown",
      "metadata": {
        "id": "3h5IcosC4JOj",
        "colab_type": "text"
      },
      "source": [
        "### Ejercicio 4\n",
        "Emplear el dataframe salaries.csv \n",
        "\n",
        "Está en el repositorio de GitHub\n",
        "\n",
        "1. Se deberá generar un gráfico de barras comparando el salario por sexo."
      ]
    },
    {
      "cell_type": "code",
      "metadata": {
        "id": "SUlFcwUx4IVd",
        "colab_type": "code",
        "colab": {}
      },
      "source": [
        "# Código aquí"
      ],
      "execution_count": null,
      "outputs": []
    },
    {
      "cell_type": "markdown",
      "metadata": {
        "id": "tMEiUsrB492m",
        "colab_type": "text"
      },
      "source": [
        "## 4. Box Plots"
      ]
    },
    {
      "cell_type": "code",
      "metadata": {
        "id": "XE1nx-2Z5ErB",
        "colab_type": "code",
        "colab": {
          "base_uri": "https://localhost:8080/",
          "height": 295
        },
        "outputId": "74783a72-97e0-47e5-8884-098b2ed340c3"
      },
      "source": [
        "# Importar pandas y matplotlib\n",
        "import matplotlib.pyplot as plt\n",
        "import pandas as pd\n",
        "\n",
        "# importar ma\n",
        "\n",
        "#Leer el dataframe salaries.csv\n",
        "mpg = pd.read_csv(\"https://raw.githubusercontent.com/ulises1229/INTRO-PYTHON-ENESJ/master/data/mpg.csv\")\n",
        "\n",
        "plt.boxplot(mpg.hwy)\n",
        "# Agregar títulos\n",
        "plt.title(\"Consumo en autopista de todos los automóviles\")\n",
        "plt.xlabel(\"Número de Cilindros\")\n",
        "plt.ylabel(\"Consumo en autopista (mpg)\")\n",
        "\n",
        "# exportar imágen\n",
        "plt.savefig(\"mpg.tiff\", dpi=300, quality = 95, bbox_inches='tight')"
      ],
      "execution_count": 136,
      "outputs": [
        {
          "output_type": "display_data",
          "data": {
            "image/png": "[encoded data removed]",
            "text/plain": [
              "<Figure size 432x288 with 1 Axes>"
            ]
          },
          "metadata": {
            "tags": [],
            "needs_background": "light"
          }
        }
      ]
    },
    {
      "cell_type": "markdown",
      "metadata": {
        "id": "ysHVGVZtBa8D",
        "colab_type": "text"
      },
      "source": [
        "# Matemáticas Simbólicas\n",
        "+ Álgebra\n",
        "+ Cálculo\n",
        "+ Ecuaciones"
      ]
    },
    {
      "cell_type": "code",
      "metadata": {
        "id": "gGxNunL9Bv0S",
        "colab_type": "code",
        "colab": {}
      },
      "source": [
        "# Importar la librería Sympy\n",
        "from sympy import *\n",
        "\n",
        "# importar una variable simbólica (x)\n",
        "from sympy.abc import x\n",
        "\n",
        "# Habilitar impresión avanzada \n",
        "init_printing(use_latex='mathjax')\n",
        "\n",
        "# Lo anterior es equivalente a: \n",
        "x = Symbol('x') \n",
        "\n",
        "# también se puede definir como:\n",
        "x, y = symbols('x y')\n"
      ],
      "execution_count": 169,
      "outputs": []
    },
    {
      "cell_type": "markdown",
      "metadata": {
        "id": "zKhqz4COHtZH",
        "colab_type": "text"
      },
      "source": [
        "#### Operaciones Básicas\n",
        " "
      ]
    },
    {
      "cell_type": "code",
      "metadata": {
        "id": "x8TxNWZ6ENVR",
        "colab_type": "code",
        "colab": {
          "base_uri": "https://localhost:8080/",
          "height": 38
        },
        "outputId": "ed63f2a3-0126-48b8-8cde-6b968e456dd4"
      },
      "source": [
        "# Definir una expresión simple\n",
        "a = 2*x**2 + y \n",
        "display(a)"
      ],
      "execution_count": 178,
      "outputs": [
        {
          "output_type": "display_data",
          "data": {
            "text/latex": "$$2 x^{2} + y$$",
            "text/plain": [
              "   2    \n",
              "2⋅x  + y"
            ]
          },
          "metadata": {
            "tags": []
          }
        }
      ]
    },
    {
      "cell_type": "code",
      "metadata": {
        "id": "askGtDUqD4IQ",
        "colab_type": "code",
        "colab": {
          "base_uri": "https://localhost:8080/",
          "height": 62
        },
        "outputId": "0304c1af-86c3-410c-cce5-e96cbb0ada99"
      },
      "source": [
        "# Operaciones simples con expresiones\n",
        "display(a+y)\n",
        "display(a**2 + y**2)"
      ],
      "execution_count": 168,
      "outputs": [
        {
          "output_type": "display_data",
          "data": {
            "text/latex": "$$2 x^{2} + 2 y$$",
            "text/plain": [
              "   2      \n",
              "2⋅x  + 2⋅y"
            ]
          },
          "metadata": {
            "tags": []
          }
        },
        {
          "output_type": "display_data",
          "data": {
            "text/latex": "$$y^{2} + \\left(2 x^{2} + y\\right)^{2}$$",
            "text/plain": [
              "               2\n",
              " 2   ⎛   2    ⎞ \n",
              "y  + ⎝2⋅x  + y⎠ "
            ]
          },
          "metadata": {
            "tags": []
          }
        }
      ]
    },
    {
      "cell_type": "code",
      "metadata": {
        "id": "s7UtQmzQEBCH",
        "colab_type": "code",
        "colab": {
          "base_uri": "https://localhost:8080/",
          "height": 38
        },
        "outputId": "de8b97de-07b2-42a6-9a4b-be55881f180c"
      },
      "source": [
        "# Expandir una expresión\n",
        "expand(a**3)"
      ],
      "execution_count": 161,
      "outputs": [
        {
          "output_type": "execute_result",
          "data": {
            "text/latex": "$$8 x^{6} + 12 x^{4} y + 6 x^{2} y^{2} + y^{3}$$",
            "text/plain": [
              "   6       4        2  2    3\n",
              "8⋅x  + 12⋅x ⋅y + 6⋅x ⋅y  + y "
            ]
          },
          "metadata": {
            "tags": []
          },
          "execution_count": 161
        }
      ]
    },
    {
      "cell_type": "code",
      "metadata": {
        "id": "chCoYT2nFp7M",
        "colab_type": "code",
        "colab": {
          "base_uri": "https://localhost:8080/",
          "height": 39
        },
        "outputId": "c648ca19-a3e2-4194-d0ae-b6841b6cc9bc"
      },
      "source": [
        "# Factorización\n",
        "factor(x**3 + 3*x**2 +3*x + 1)"
      ],
      "execution_count": 171,
      "outputs": [
        {
          "output_type": "execute_result",
          "data": {
            "text/latex": "$$\\left(x + 1\\right)^{3}$$",
            "text/plain": [
              "       3\n",
              "(x + 1) "
            ]
          },
          "metadata": {
            "tags": []
          },
          "execution_count": 171
        }
      ]
    },
    {
      "cell_type": "code",
      "metadata": {
        "id": "26q2om-8F82h",
        "colab_type": "code",
        "colab": {
          "base_uri": "https://localhost:8080/",
          "height": 133
        },
        "outputId": "73820969-5dcf-43e5-90b3-4fb907d1c3da"
      },
      "source": [
        "# Simplificación de expresiones\n",
        "# Definir dos expresiones\n",
        "exp1 = x**2 - y**2\n",
        "exp2 = (x+y)*(x-y)\n",
        "\n",
        "# \n",
        "display(\"Primer expresión: \",exp1)\n",
        "display(\"Segunda expresión: \",exp2)\n",
        "display(\"Simplificación: \", simplify(exp1 - exp2))"
      ],
      "execution_count": 177,
      "outputs": [
        {
          "output_type": "display_data",
          "data": {
            "application/vnd.google.colaboratory.intrinsic+json": {
              "type": "string"
            },
            "text/plain": [
              "'Primer expresión: '"
            ]
          },
          "metadata": {
            "tags": []
          }
        },
        {
          "output_type": "display_data",
          "data": {
            "text/latex": "$$x^{2} - y^{2}$$",
            "text/plain": [
              " 2    2\n",
              "x  - y "
            ]
          },
          "metadata": {
            "tags": []
          }
        },
        {
          "output_type": "display_data",
          "data": {
            "application/vnd.google.colaboratory.intrinsic+json": {
              "type": "string"
            },
            "text/plain": [
              "'Segunda expresión: '"
            ]
          },
          "metadata": {
            "tags": []
          }
        },
        {
          "output_type": "display_data",
          "data": {
            "text/latex": "$$\\left(x - y\\right) \\left(x + y\\right)$$",
            "text/plain": [
              "(x - y)⋅(x + y)"
            ]
          },
          "metadata": {
            "tags": []
          }
        },
        {
          "output_type": "display_data",
          "data": {
            "application/vnd.google.colaboratory.intrinsic+json": {
              "type": "string"
            },
            "text/plain": [
              "'Simplificación: '"
            ]
          },
          "metadata": {
            "tags": []
          }
        },
        {
          "output_type": "display_data",
          "data": {
            "text/latex": "$$0$$",
            "text/plain": [
              "0"
            ]
          },
          "metadata": {
            "tags": []
          }
        }
      ]
    },
    {
      "cell_type": "markdown",
      "metadata": {
        "id": "EHPDnVszHz--",
        "colab_type": "text"
      },
      "source": [
        "#### Sustituciones"
      ]
    },
    {
      "cell_type": "code",
      "metadata": {
        "id": "RWOtgB0rH4s4",
        "colab_type": "code",
        "colab": {
          "base_uri": "https://localhost:8080/",
          "height": 94
        },
        "outputId": "f211cc22-6006-4bdb-bfca-c2407d7abc37"
      },
      "source": [
        "# Definir una expresión simple y realizar sustituciones\n",
        "expr = cos(x) + 1\n",
        "display(\"Primer substitución x = y\", expr.subs(x, y))\n",
        "display(\"Segunda substitución x = 0\",expr.subs(x, 0))"
      ],
      "execution_count": 182,
      "outputs": [
        {
          "output_type": "display_data",
          "data": {
            "application/vnd.google.colaboratory.intrinsic+json": {
              "type": "string"
            },
            "text/plain": [
              "'Primer substitución'"
            ]
          },
          "metadata": {
            "tags": []
          }
        },
        {
          "output_type": "display_data",
          "data": {
            "text/latex": "$$\\cos{\\left (y \\right )} + 1$$",
            "text/plain": [
              "cos(y) + 1"
            ]
          },
          "metadata": {
            "tags": []
          }
        },
        {
          "output_type": "display_data",
          "data": {
            "application/vnd.google.colaboratory.intrinsic+json": {
              "type": "string"
            },
            "text/plain": [
              "'Segunda substitución'"
            ]
          },
          "metadata": {
            "tags": []
          }
        },
        {
          "output_type": "display_data",
          "data": {
            "text/latex": "$$2$$",
            "text/plain": [
              "2"
            ]
          },
          "metadata": {
            "tags": []
          }
        }
      ]
    },
    {
      "cell_type": "code",
      "metadata": {
        "id": "-gdFX8R3Img5",
        "colab_type": "code",
        "colab": {
          "base_uri": "https://localhost:8080/",
          "height": 95
        },
        "outputId": "006b5dd8-7eee-4d04-fe87-54a9063c88c7"
      },
      "source": [
        "# Continuación sustituciones\n",
        "expr = x**y\n",
        "display(\"Expresión original\", expr)\n",
        "expr = expr.subs(y, x**y)\n",
        "display(\"Después de la sustitución\", expr)"
      ],
      "execution_count": 186,
      "outputs": [
        {
          "output_type": "display_data",
          "data": {
            "application/vnd.google.colaboratory.intrinsic+json": {
              "type": "string"
            },
            "text/plain": [
              "'Expresión original'"
            ]
          },
          "metadata": {
            "tags": []
          }
        },
        {
          "output_type": "display_data",
          "data": {
            "text/latex": "$$x^{y}$$",
            "text/plain": [
              " y\n",
              "x "
            ]
          },
          "metadata": {
            "tags": []
          }
        },
        {
          "output_type": "display_data",
          "data": {
            "application/vnd.google.colaboratory.intrinsic+json": {
              "type": "string"
            },
            "text/plain": [
              "'Después de la sustitución'"
            ]
          },
          "metadata": {
            "tags": []
          }
        },
        {
          "output_type": "display_data",
          "data": {
            "text/latex": "$$x^{x^{y}}$$",
            "text/plain": [
              " ⎛ y⎞\n",
              " ⎝x ⎠\n",
              "x    "
            ]
          },
          "metadata": {
            "tags": []
          }
        }
      ]
    },
    {
      "cell_type": "markdown",
      "metadata": {
        "id": "272FCz0fJrbi",
        "colab_type": "text"
      },
      "source": [
        "#### Funciones trigonométricas\n"
      ]
    },
    {
      "cell_type": "code",
      "metadata": {
        "id": "Lgb5NkuKJ1yc",
        "colab_type": "code",
        "colab": {
          "base_uri": "https://localhost:8080/",
          "height": 56
        },
        "outputId": "17557585-cb8d-4bc9-c939-7865f7627440"
      },
      "source": [
        "# Definición de una expresión trig.\n",
        "trigx = sin(2*x) + cos(2*x)\n",
        "\n",
        "# Expansión utilizando identidades\n",
        "display(\"Expansión \", expand_trig(trigx))"
      ],
      "execution_count": 191,
      "outputs": [
        {
          "output_type": "display_data",
          "data": {
            "application/vnd.google.colaboratory.intrinsic+json": {
              "type": "string"
            },
            "text/plain": [
              "'Expansión '"
            ]
          },
          "metadata": {
            "tags": []
          }
        },
        {
          "output_type": "display_data",
          "data": {
            "text/latex": "$$2 \\sin{\\left (x \\right )} \\cos{\\left (x \\right )} + 2 \\cos^{2}{\\left (x \\right )} - 1$$",
            "text/plain": [
              "                       2       \n",
              "2⋅sin(x)⋅cos(x) + 2⋅cos (x) - 1"
            ]
          },
          "metadata": {
            "tags": []
          }
        }
      ]
    },
    {
      "cell_type": "code",
      "metadata": {
        "id": "Ozh4e0e7KaOA",
        "colab_type": "code",
        "colab": {
          "base_uri": "https://localhost:8080/",
          "height": 55
        },
        "outputId": "49f93824-7fe2-4db5-e248-ceb8da4098d6"
      },
      "source": [
        "# Simplificación\n",
        "display(\"Simplificación \", trigsimp(cos(x)**2 + sin(x)**2))\n"
      ],
      "execution_count": 193,
      "outputs": [
        {
          "output_type": "display_data",
          "data": {
            "application/vnd.google.colaboratory.intrinsic+json": {
              "type": "string"
            },
            "text/plain": [
              "'Simplificación '"
            ]
          },
          "metadata": {
            "tags": []
          }
        },
        {
          "output_type": "display_data",
          "data": {
            "text/latex": "$$1$$",
            "text/plain": [
              "1"
            ]
          },
          "metadata": {
            "tags": []
          }
        }
      ]
    },
    {
      "cell_type": "markdown",
      "metadata": {
        "id": "04CHqmBbLX1o",
        "colab_type": "text"
      },
      "source": [
        "#### Symplify y **evalf**"
      ]
    },
    {
      "cell_type": "code",
      "metadata": {
        "id": "p1g7XZRXLc42",
        "colab_type": "code",
        "colab": {
          "base_uri": "https://localhost:8080/",
          "height": 38
        },
        "outputId": "9dd790a7-ed90-4d8c-d207-a80209d80b67"
      },
      "source": [
        "simplify('x**2 + 2*x +4')\n"
      ],
      "execution_count": 202,
      "outputs": [
        {
          "output_type": "execute_result",
          "data": {
            "text/latex": "$$x^{2} + 2 x + 4$$",
            "text/plain": [
              " 2          \n",
              "x  + 2⋅x + 4"
            ]
          },
          "metadata": {
            "tags": []
          },
          "execution_count": 202
        }
      ]
    },
    {
      "cell_type": "code",
      "metadata": {
        "id": "y3MQt_jgMIvv",
        "colab_type": "code",
        "colab": {
          "base_uri": "https://localhost:8080/",
          "height": 77
        },
        "outputId": "1405ac5c-e7cf-4ecf-cfbd-37ee1953e6b8"
      },
      "source": [
        "# Definición de una expresión\n",
        "expr = sqrt(8)\n",
        "display(expr)\n",
        "display(expr.evalf())\n",
        "display(pi.evalf(100))"
      ],
      "execution_count": 203,
      "outputs": [
        {
          "output_type": "display_data",
          "data": {
            "text/latex": "$$2 \\sqrt{2}$$",
            "text/plain": [
              "2⋅√2"
            ]
          },
          "metadata": {
            "tags": []
          }
        },
        {
          "output_type": "execute_result",
          "data": {
            "text/latex": "$$3.141592653589793238462643383279502884197169399375105820974944592307816406286208998628034825342117068$$",
            "text/plain": [
              "3.1415926535897932384626433832795028841971693993751058209749445923078164062862\n",
              "08998628034825342117068"
            ]
          },
          "metadata": {
            "tags": []
          },
          "execution_count": 203
        }
      ]
    }
  ]
}