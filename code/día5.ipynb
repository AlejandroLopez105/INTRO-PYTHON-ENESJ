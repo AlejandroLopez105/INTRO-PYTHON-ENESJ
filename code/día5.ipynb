{
  "nbformat": 4,
  "nbformat_minor": 0,
  "metadata": {
    "colab": {
      "name": "día5.ipynb",
      "provenance": [],
      "collapsed_sections": [
        "P3uAibk_CxEL"
      ],
      "mount_file_id": "1Oua75Lkw-frEwPcweGYXUedw-4t5aozy",
      "authorship_tag": "ABX9TyNpnZ+C+zRf7Bv3gf1Fqz60",
      "include_colab_link": true
    },
    "kernelspec": {
      "name": "python3",
      "display_name": "Python 3"
    }
  },
  "cells": [
    {
      "cell_type": "markdown",
      "metadata": {
        "id": "view-in-github",
        "colab_type": "text"
      },
      "source": [
        "<a href=\"https://colab.research.google.com/github/ulises1229/INTRO-PYTHON-ENESJ/blob/master/code/d%C3%ADa5.ipynb\" target=\"_parent\"><img src=\"https://colab.research.google.com/assets/colab-badge.svg\" alt=\"Open In Colab\"/></a>"
      ]
    },
    {
      "cell_type": "markdown",
      "metadata": {
        "id": "vhdV0eE-_clQ",
        "colab_type": "text"
      },
      "source": [
        "## Día5 - Deep Learning con Pythorch\n",
        "+ Autor: Ulises Olivares, Walter André Reyes\n",
        "+ uolivares@unam.mx\n",
        "+ 03 de septiembre de 2020"
      ]
    },
    {
      "cell_type": "markdown",
      "metadata": {
        "id": "-S9YjS_WGq2K",
        "colab_type": "text"
      },
      "source": [
        "---\n",
        "Contenido basado en la documentación oficial de Pythorch: \n",
        "- https://pytorch.org/tutorials/\n",
        "\n",
        "---\n",
        "\n"
      ]
    },
    {
      "cell_type": "markdown",
      "metadata": {
        "id": "Oqf3a8mWCxDS",
        "colab_type": "text"
      },
      "source": [
        "¿Qué es Pythorch?\n",
        "================\n",
        "\n",
        "Es un paquete informático científico basado en Python dirigido a dos conjuntos de\n",
        "audiencias:\n",
        "\n",
        "- Un reemplazo de NumPy para usar el poder de cómputo de los GPU.\n",
        "\n",
        "- Una plataforma de investigación de (deep learning) que proporciona máxima flexibilidad y velocidad\n",
        "\n",
        "**Tensores**\n",
        "---------------\n",
        "\n",
        "+ Los tensores son similares a los ndarrays de NumPy, con la adición de que también se pueden usar en un GPU para acelerar los cálculos.\n",
        "\n"
      ]
    },
    {
      "cell_type": "code",
      "metadata": {
        "id": "mhPknTl4_hdA",
        "colab_type": "code",
        "colab": {}
      },
      "source": [
        "# Google Colab soporta Pythorch por default\n",
        "import torch"
      ],
      "execution_count": null,
      "outputs": []
    },
    {
      "cell_type": "markdown",
      "metadata": {
        "id": "iRt7njBVL9Qy",
        "colab_type": "text"
      },
      "source": [
        "\n",
        "Nota\n",
        "======\n",
        "\n",
        "Se declara una matriz no inicializada, esta matriz no contiene valores definidos antes de su uso. Cuando se crea una matriz no inicializada, los valores que estaban en la memoria asignada en ese momento aparecerán como valores iniciales.\n",
        "\n"
      ]
    },
    {
      "cell_type": "code",
      "metadata": {
        "id": "2AeDK5h6M7Dr",
        "colab_type": "code",
        "colab": {
          "base_uri": "https://localhost:8080/",
          "height": 103
        },
        "outputId": "94abe29d-fa8d-4354-f14f-4bb9a8c528ef"
      },
      "source": [
        "# Matriz no inicializada de 5 filas y 3 columnas\n",
        "x = torch.empty(5, 3)\n",
        "print(x)"
      ],
      "execution_count": 42,
      "outputs": [
        {
          "output_type": "stream",
          "text": [
            "tensor([[1.7503e-35, 0.0000e+00, 2.1019e-44],\n",
            "        [0.0000e+00, 1.4013e-45, 0.0000e+00],\n",
            "        [1.4574e-43, 1.3593e-43, 1.5975e-43],\n",
            "        [1.4153e-43, 1.4013e-43, 5.6052e-44],\n",
            "        [5.7453e-44, 0.0000e+00, 0.0000e+00]])\n"
          ],
          "name": "stdout"
        }
      ]
    },
    {
      "cell_type": "markdown",
      "metadata": {
        "id": "2tEKDGjlCxDW",
        "colab_type": "text"
      },
      "source": [
        "*Construir* una matriz no inicializada de 5x3:\n",
        "\n"
      ]
    },
    {
      "cell_type": "code",
      "metadata": {
        "id": "uZ8-tJv8CxDW",
        "colab_type": "code",
        "colab": {}
      },
      "source": [
        "x = torch.empty(5, 3)\n",
        "print(x)"
      ],
      "execution_count": null,
      "outputs": []
    },
    {
      "cell_type": "markdown",
      "metadata": {
        "id": "Et_UfwThCxDY",
        "colab_type": "text"
      },
      "source": [
        "Construir una matriz inicializada de forma aleatoria:\n",
        "\n"
      ]
    },
    {
      "cell_type": "code",
      "metadata": {
        "id": "cVuMjDtICxDZ",
        "colab_type": "code",
        "colab": {}
      },
      "source": [
        "x = torch.rand(5, 3)\n",
        "print(x)"
      ],
      "execution_count": null,
      "outputs": []
    },
    {
      "cell_type": "markdown",
      "metadata": {
        "id": "koUSt9msCxDb",
        "colab_type": "text"
      },
      "source": [
        "Construir una matriz de zeros y de tyopo long:\n",
        "\n",
        "- Ver tipos de datos de pythorch en el siguiente [LINK](https://pytorch.org/docs/stable/tensor_attributes.html)\n"
      ]
    },
    {
      "cell_type": "code",
      "metadata": {
        "id": "ZOUjp2oPCxDb",
        "colab_type": "code",
        "colab": {
          "base_uri": "https://localhost:8080/",
          "height": 103
        },
        "outputId": "c721fdd6-0dab-4aff-c9cd-af02da49854c"
      },
      "source": [
        "x = torch.zeros(5, 3, dtype=torch.long)\n",
        "print(x)"
      ],
      "execution_count": 17,
      "outputs": [
        {
          "output_type": "stream",
          "text": [
            "tensor([[0, 0, 0],\n",
            "        [0, 0, 0],\n",
            "        [0, 0, 0],\n",
            "        [0, 0, 0],\n",
            "        [0, 0, 0]])\n"
          ],
          "name": "stdout"
        }
      ]
    },
    {
      "cell_type": "markdown",
      "metadata": {
        "id": "hzL3er_kCxDf",
        "colab_type": "text"
      },
      "source": [
        "**Construir un Tensor a partir de datos:**\n",
        "  + Se especifican los elementos entre corchetes. E.g. [1,2,3,5]\n",
        "\n",
        "\n"
      ]
    },
    {
      "cell_type": "code",
      "metadata": {
        "id": "d1d5_tPBCxDf",
        "colab_type": "code",
        "colab": {
          "base_uri": "https://localhost:8080/",
          "height": 34
        },
        "outputId": "084501b7-e26d-4e13-df7d-4a62b16b7082"
      },
      "source": [
        "x = torch.tensor([5.5, 3])\n",
        "print(x)"
      ],
      "execution_count": 18,
      "outputs": [
        {
          "output_type": "stream",
          "text": [
            "tensor([5.5000, 3.0000])\n"
          ],
          "name": "stdout"
        }
      ]
    },
    {
      "cell_type": "markdown",
      "metadata": {
        "id": "XBkJ4CTNCxDh",
        "colab_type": "text"
      },
      "source": [
        "**Crear un tensor basado en un tensor existente**\n",
        "\n",
        "Este método reutilizá las propiedades del tensor de entrada. E.g. **dtype**, a menos que los nuevos valores se especifiquen por el usuario."
      ]
    },
    {
      "cell_type": "code",
      "metadata": {
        "id": "Mljr-DrzCxDh",
        "colab_type": "code",
        "colab": {
          "base_uri": "https://localhost:8080/",
          "height": 188
        },
        "outputId": "2afc3929-2cbb-44cd-8184-100d8068a17c"
      },
      "source": [
        "x = x.new_ones(5, 3, dtype=torch.double)      # new_* methods take in sizes\n",
        "print(x)\n",
        "\n",
        "x = torch.randn_like(x, dtype=torch.float)    # sobreescibir dtype!\n",
        "print(x)                                      # el resultado tiene el mismo tamaño."
      ],
      "execution_count": 21,
      "outputs": [
        {
          "output_type": "stream",
          "text": [
            "tensor([[1., 1., 1.],\n",
            "        [1., 1., 1.],\n",
            "        [1., 1., 1.],\n",
            "        [1., 1., 1.],\n",
            "        [1., 1., 1.]], dtype=torch.float64)\n",
            "tensor([[-1.5462, -1.4558,  3.1613],\n",
            "        [-0.5051, -1.5140, -1.4744],\n",
            "        [ 1.0144, -0.6478, -1.1869],\n",
            "        [-1.0717, -0.0900,  0.2812],\n",
            "        [-1.0053, -1.4958,  0.7683]])\n"
          ],
          "name": "stdout"
        }
      ]
    },
    {
      "cell_type": "markdown",
      "metadata": {
        "id": "_petMh4HCxDj",
        "colab_type": "text"
      },
      "source": [
        "**Obtener el tamaño de un tensor:**\n",
        "\n"
      ]
    },
    {
      "cell_type": "code",
      "metadata": {
        "id": "kquZbcVrCxDk",
        "colab_type": "code",
        "colab": {}
      },
      "source": [
        "print(x.size())"
      ],
      "execution_count": null,
      "outputs": []
    },
    {
      "cell_type": "markdown",
      "metadata": {
        "id": "l2HTTTyjCxDl",
        "colab_type": "text"
      },
      "source": [
        "<h4>Nota</h4><p>\n",
        "\n",
        "`torch.Size`\n",
        "\n",
        "Es de hecho una tupla, entonces soporta las operaciones de tuplas.</p></div>\n",
        "\n",
        "**Operaciones**\n",
        "\n",
        "Existen múltiples formas de especificar (denotar) operaciones en pythorch. En el siguiente ejemplo, se utilizara la operación de adición. \n",
        "\n",
        "**Suma: sintaxis 1**\n",
        "\n"
      ]
    },
    {
      "cell_type": "code",
      "metadata": {
        "id": "aplA0i7XCxDm",
        "colab_type": "code",
        "colab": {
          "base_uri": "https://localhost:8080/",
          "height": 103
        },
        "outputId": "ffb40933-1531-4f35-b374-549d3070d1c4"
      },
      "source": [
        "y = torch.rand(5, 3)\n",
        "print(x + y)"
      ],
      "execution_count": 22,
      "outputs": [
        {
          "output_type": "stream",
          "text": [
            "tensor([[-1.0351, -0.7326,  4.0632],\n",
            "        [ 0.1474, -0.6312, -0.5010],\n",
            "        [ 1.4052,  0.0893, -1.1074],\n",
            "        [-1.0232,  0.8573,  0.4827],\n",
            "        [-0.8142, -0.5027,  1.3483]])\n"
          ],
          "name": "stdout"
        }
      ]
    },
    {
      "cell_type": "markdown",
      "metadata": {
        "id": "R1ToIO68CxDn",
        "colab_type": "text"
      },
      "source": [
        "**Suma: sintaxis 2**\n",
        "\n"
      ]
    },
    {
      "cell_type": "code",
      "metadata": {
        "id": "J3tplG9LCxDo",
        "colab_type": "code",
        "colab": {
          "base_uri": "https://localhost:8080/",
          "height": 103
        },
        "outputId": "73324751-041f-43c8-eacb-6f477b1d0857"
      },
      "source": [
        "print(torch.add(x, y))"
      ],
      "execution_count": 23,
      "outputs": [
        {
          "output_type": "stream",
          "text": [
            "tensor([[-1.0351, -0.7326,  4.0632],\n",
            "        [ 0.1474, -0.6312, -0.5010],\n",
            "        [ 1.4052,  0.0893, -1.1074],\n",
            "        [-1.0232,  0.8573,  0.4827],\n",
            "        [-0.8142, -0.5027,  1.3483]])\n"
          ],
          "name": "stdout"
        }
      ]
    },
    {
      "cell_type": "markdown",
      "metadata": {
        "id": "ihXqbCSsCxDq",
        "colab_type": "text"
      },
      "source": [
        "**Suma: Sintaxis 3** \n",
        "- pasar la variable resultado como un argumento."
      ]
    },
    {
      "cell_type": "code",
      "metadata": {
        "id": "2BQICyCwCxDq",
        "colab_type": "code",
        "colab": {
          "base_uri": "https://localhost:8080/",
          "height": 103
        },
        "outputId": "160d6436-571d-4ba4-d7d2-c028e3504e83"
      },
      "source": [
        "result = torch.empty(5, 3)\n",
        "torch.add(x, y, out=result)\n",
        "print(result)"
      ],
      "execution_count": 24,
      "outputs": [
        {
          "output_type": "stream",
          "text": [
            "tensor([[-1.0351, -0.7326,  4.0632],\n",
            "        [ 0.1474, -0.6312, -0.5010],\n",
            "        [ 1.4052,  0.0893, -1.1074],\n",
            "        [-1.0232,  0.8573,  0.4827],\n",
            "        [-0.8142, -0.5027,  1.3483]])\n"
          ],
          "name": "stdout"
        }
      ]
    },
    {
      "cell_type": "markdown",
      "metadata": {
        "id": "sbAY6KD5CxDs",
        "colab_type": "text"
      },
      "source": [
        "**Suma: Sintaxis 4**\n",
        "- Operación in-situ\n"
      ]
    },
    {
      "cell_type": "code",
      "metadata": {
        "id": "vwg7JFfBCxDs",
        "colab_type": "code",
        "colab": {
          "base_uri": "https://localhost:8080/",
          "height": 103
        },
        "outputId": "b48c9cd0-cfc1-48ef-ac19-ff2aaf9e292d"
      },
      "source": [
        "# adds x to y\n",
        "y.add_(x)\n",
        "print(y)"
      ],
      "execution_count": 25,
      "outputs": [
        {
          "output_type": "stream",
          "text": [
            "tensor([[-1.0351, -0.7326,  4.0632],\n",
            "        [ 0.1474, -0.6312, -0.5010],\n",
            "        [ 1.4052,  0.0893, -1.1074],\n",
            "        [-1.0232,  0.8573,  0.4827],\n",
            "        [-0.8142, -0.5027,  1.3483]])\n"
          ],
          "name": "stdout"
        }
      ]
    },
    {
      "cell_type": "markdown",
      "metadata": {
        "id": "GBFmhZG4CxDu",
        "colab_type": "text"
      },
      "source": [
        "**Nota**\n",
        "\n",
        "Cualquier operación que modifique un tensor in-situ lleva el sufijo `_` \n",
        "\n",
        "Por ejemplo: \n",
        "\n",
        "``x.copy_(y)``, ``x.t_()``, modificarán al tensor ``x``\n",
        "\n",
        "- **¡Es posible utilizar la notación de indexación similar a Numpy!**"
      ]
    },
    {
      "cell_type": "code",
      "metadata": {
        "id": "ZtzvH-KJCxDu",
        "colab_type": "code",
        "colab": {
          "base_uri": "https://localhost:8080/",
          "height": 34
        },
        "outputId": "76eddca5-8330-4eb6-f285-ebc1233b9f57"
      },
      "source": [
        "print(x[:, 1])"
      ],
      "execution_count": 34,
      "outputs": [
        {
          "output_type": "stream",
          "text": [
            "tensor([ 0.3038, -0.0759,  0.8677,  0.9201])\n"
          ],
          "name": "stdout"
        }
      ]
    },
    {
      "cell_type": "markdown",
      "metadata": {
        "id": "kq_HI5WVCxDw",
        "colab_type": "text"
      },
      "source": [
        "**Modificar el tamaño:** Si es necesario modificar el tamaño o la forma de un tensoer, se puede utilizar:\n",
        "\n",
        "``torch.view``:\n",
        "\n"
      ]
    },
    {
      "cell_type": "code",
      "metadata": {
        "id": "BuUGPsY0CxDx",
        "colab_type": "code",
        "colab": {}
      },
      "source": [
        "x = torch.randn(4, 4)\n",
        "y = x.view(16)\n",
        "z = x.view(-1, 8)  # el tamaño -1 se asigna automáticamente (infiere) de la otra dimensión.\n",
        "print(x.size(), y.size(), z.size())"
      ],
      "execution_count": null,
      "outputs": []
    },
    {
      "cell_type": "markdown",
      "metadata": {
        "id": "NOzcaxQqCxDz",
        "colab_type": "text"
      },
      "source": [
        "Si se tiene un único elemento en el tensor, se puede emplear ``.item()`` para obtener el valor como un número de Python."
      ]
    },
    {
      "cell_type": "code",
      "metadata": {
        "id": "McbKRjkKCxD0",
        "colab_type": "code",
        "colab": {}
      },
      "source": [
        "x = torch.randn(1)\n",
        "print(x)\n",
        "print(x.item())"
      ],
      "execution_count": null,
      "outputs": []
    },
    {
      "cell_type": "markdown",
      "metadata": {
        "id": "h-4nCDUbCxD2",
        "colab_type": "text"
      },
      "source": [
        "**Revisar más tarde:**\n",
        "\n",
        "  - Más de 100 operaciones con tensores incluidos:\n",
        "    + Transposiciones\n",
        "    + Indexación\n",
        "    + Subconjuntos\n",
        "    + Operaciones matemáticas\n",
        "    + Operaciones de álgebra lineal\n",
        "    + Números aleatorios, etc\n",
        "\n",
        "Todas estas operaciones están descritas\n",
        "  `aquí <https://pytorch.org/docs/torch>`_.\n",
        "\n",
        "Conversión de Torch Tensor a Numpy Array y viceversa\n",
        "---\n",
        "\n",
        "La conversión es muy sencilla\n",
        "\n",
        "El arraglo de Numpy y el Tensor compartirán la ubicación de memoria subyacente\n",
        "(si el tensor de Torch está en el CPU), cambiar un elemento modificará atomáticamente el otro.\n",
        "\n",
        "**Convirtiendo un Tensor Torch a un Numpy Array**"
      ]
    },
    {
      "cell_type": "code",
      "metadata": {
        "id": "EboMC3uuCxD2",
        "colab_type": "code",
        "colab": {
          "base_uri": "https://localhost:8080/",
          "height": 34
        },
        "outputId": "dccfa22d-e929-43c6-aa08-a81c7bc8d78f"
      },
      "source": [
        "# Torch tensor\n",
        "a = torch.ones(5)\n",
        "print(a)"
      ],
      "execution_count": 39,
      "outputs": [
        {
          "output_type": "stream",
          "text": [
            "tensor([1., 1., 1., 1., 1.])\n"
          ],
          "name": "stdout"
        }
      ]
    },
    {
      "cell_type": "code",
      "metadata": {
        "id": "Tml5PfSoCxD4",
        "colab_type": "code",
        "colab": {
          "base_uri": "https://localhost:8080/",
          "height": 34
        },
        "outputId": "a2568979-2457-4eff-986b-d02fe5abad1b"
      },
      "source": [
        "# Arreglo de numpy\n",
        "b = a.numpy()\n",
        "print(b)"
      ],
      "execution_count": 40,
      "outputs": [
        {
          "output_type": "stream",
          "text": [
            "[1. 1. 1. 1. 1.]\n"
          ],
          "name": "stdout"
        }
      ]
    },
    {
      "cell_type": "markdown",
      "metadata": {
        "id": "kgMEmrcdCxD5",
        "colab_type": "text"
      },
      "source": [
        "\n",
        "Verificar el arraglo de numpy.\n"
      ]
    },
    {
      "cell_type": "code",
      "metadata": {
        "id": "CAbpn-nACxD6",
        "colab_type": "code",
        "colab": {}
      },
      "source": [
        "a.add_(1)\n",
        "print(a)\n",
        "print(b)"
      ],
      "execution_count": null,
      "outputs": []
    },
    {
      "cell_type": "markdown",
      "metadata": {
        "id": "gw8-nAarCxD7",
        "colab_type": "text"
      },
      "source": [
        "Convirtiendo el arreglo de Numpy a un Tensor Torch\n",
        "---\n",
        "See how changing the np array changed the Torch Tensor automatically\n",
        "\n"
      ]
    },
    {
      "cell_type": "code",
      "metadata": {
        "id": "ZZmVxEz1CxD7",
        "colab_type": "code",
        "colab": {}
      },
      "source": [
        "import numpy as np\n",
        "a = np.ones(5)\n",
        "b = torch.from_numpy(a)\n",
        "np.add(a, 1, out=a)\n",
        "print(a)\n",
        "print(b)"
      ],
      "execution_count": null,
      "outputs": []
    },
    {
      "cell_type": "markdown",
      "metadata": {
        "id": "P3uAibk_CxEL",
        "colab_type": "text"
      },
      "source": [
        "All the Tensors on the CPU except a CharTensor support converting to\n",
        "NumPy and back.\n",
        "\n",
        "CUDA Tensors\n",
        "------------\n",
        "\n",
        "Tensors can be moved onto any device using the ``.to`` method.\n",
        "\n"
      ]
    },
    {
      "cell_type": "code",
      "metadata": {
        "id": "U-NIB8ojCxEN",
        "colab_type": "code",
        "colab": {}
      },
      "source": [
        "# let us run this cell only if CUDA is available\n",
        "# We will use ``torch.device`` objects to move tensors in and out of GPU\n",
        "if torch.cuda.is_available():\n",
        "    device = torch.device(\"cuda\")          # a CUDA device object\n",
        "    y = torch.ones_like(x, device=device)  # directly create a tensor on GPU\n",
        "    x = x.to(device)                       # or just use strings ``.to(\"cuda\")``\n",
        "    z = x + y\n",
        "    print(z)\n",
        "    print(z.to(\"cpu\", torch.double))       # ``.to`` can also change dtype together!"
      ],
      "execution_count": null,
      "outputs": []
    }
  ]
}